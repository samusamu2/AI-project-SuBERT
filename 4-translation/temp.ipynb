{
 "cells": [
  {
   "cell_type": "code",
   "execution_count": 2,
   "id": "ccca2f76",
   "metadata": {},
   "outputs": [],
   "source": [
    "import sys  \n",
    "sys.path.insert(1, '../utils')\n",
    "\n",
    "from rclone import download_folder_from_onedrive"
   ]
  },
  {
   "cell_type": "code",
   "execution_count": 3,
   "id": "40e93e3d",
   "metadata": {},
   "outputs": [
    {
     "name": "stdout",
     "output_type": "stream",
     "text": [
      "Downloading 'sumerian_gpt2_finetuned_logs' from OneDrive to 'gpt2_logs'...\n",
      "rclone command: rclone copy onedrive_bocconi:AI-project/sumerian_gpt2_finetuned_logs gpt2_logs -P\n",
      "SUCCESS: Folder downloaded successfully.\n"
     ]
    },
    {
     "data": {
      "text/plain": [
       "True"
      ]
     },
     "execution_count": 3,
     "metadata": {},
     "output_type": "execute_result"
    }
   ],
   "source": [
    "download_folder_from_onedrive('sumerian_gpt2_finetuned_logs', 'gpt2_logs')"
   ]
  }
 ],
 "metadata": {
  "kernelspec": {
   "display_name": "azureml_py310_sdkv2",
   "language": "python",
   "name": "python3"
  },
  "language_info": {
   "codemirror_mode": {
    "name": "ipython",
    "version": 3
   },
   "file_extension": ".py",
   "mimetype": "text/x-python",
   "name": "python",
   "nbconvert_exporter": "python",
   "pygments_lexer": "ipython3",
   "version": "3.10.16"
  }
 },
 "nbformat": 4,
 "nbformat_minor": 5
}
