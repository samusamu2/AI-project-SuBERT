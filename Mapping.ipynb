{
 "cells": [
  {
   "cell_type": "markdown",
   "id": "b4cbb21a",
   "metadata": {},
   "source": [
    "### Mapping from glyphs to translitterations"
   ]
  },
  {
   "cell_type": "markdown",
   "id": "c4e72424",
   "metadata": {},
   "source": [
    "We start by building a dictionary to store the most frequent glyph to translitteration match"
   ]
  },
  {
   "cell_type": "code",
   "execution_count": 31,
   "id": "e6ea33be",
   "metadata": {},
   "outputs": [
    {
     "name": "stdout",
     "output_type": "stream",
     "text": [
      "Built dictionary of 350 glyphs.\n",
      "Example:\n",
      "𒁹: <SURFACE>\n",
      "𒄭: i₃\n",
      "𒇽: <SURFACE>\n",
      "𒀀: <SURFACE>\n",
      "𒊮: <unk>\n"
     ]
    }
   ],
   "source": [
    "from collections import defaultdict, Counter\n",
    "from datasets import load_dataset\n",
    "\n",
    "dataset = load_dataset(\"colesimmons/SumTablets\")[\"train\"]\n",
    "\n",
    "# Helper\n",
    "def is_cuneiform(char):\n",
    "    return 0x12000 <= ord(char) <= 0x123FF\n",
    "\n",
    "# Step 1: build mapping glyph → transliteration\n",
    "glyph_to_translit = defaultdict(list)\n",
    "\n",
    "for entry in dataset:\n",
    "    glyphs = [g for g in entry[\"glyphs\"] if is_cuneiform(g)]\n",
    "    translits = entry[\"transliteration\"].strip().split()\n",
    "\n",
    "    if len(glyphs) != len(translits):\n",
    "        continue  # skip unaligned entries\n",
    "\n",
    "    for g, t in zip(glyphs, translits):\n",
    "        glyph_to_translit[g].append(t)\n",
    "\n",
    "# Reduce to most frequent translit per glyph\n",
    "glyph_to_top_translit = {\n",
    "    g: Counter(toks).most_common(1)[0][0]\n",
    "    for g, toks in glyph_to_translit.items()\n",
    "}\n",
    "\n",
    "print(\"Built dictionary of\", len(glyph_to_top_translit), \"glyphs.\")\n",
    "print(\"Example:\")\n",
    "for g in list(glyph_to_top_translit)[:5]:\n",
    "    print(f\"{g}: {glyph_to_top_translit[g]}\")\n"
   ]
  },
  {
   "cell_type": "markdown",
   "id": "19aa3a42",
   "metadata": {},
   "source": [
    "We'll collect rows where:\n",
    "\n",
    "$\\cdot$ number of cuneiform glyphs == number of transliteration tokens,\n",
    "\n",
    "$\\cdot$ all glyphs are valid Unicode signs.\n",
    "\n",
    "This gives us a good training/testing base."
   ]
  },
  {
   "cell_type": "code",
   "execution_count": 32,
   "id": "743eb6b2",
   "metadata": {},
   "outputs": [
    {
     "name": "stdout",
     "output_type": "stream",
     "text": [
      "Clean aligned pairs: 1092\n",
      "Example:\n",
      " {'glyphs': '𒁹𒄭𒇽𒀀𒊮𒉄𒁍𒅆𒁕', 'tokens': '<SURFACE> <COLUMN> ...1(diš) ...du₁₀...lu₂... <COLUMN> a-ša₃ ildu₃ ši-da ...'}\n"
     ]
    }
   ],
   "source": [
    "clean_data = []\n",
    "\n",
    "for entry in dataset:\n",
    "    glyphs = [g for g in entry[\"glyphs\"] if is_cuneiform(g)]\n",
    "    translits = entry[\"transliteration\"].strip().split()\n",
    "\n",
    "    if len(glyphs) == len(translits) and glyphs and translits:\n",
    "        clean_data.append({\n",
    "            \"glyphs\": \"\".join(glyphs),\n",
    "            \"tokens\": \" \".join(translits)\n",
    "        })\n",
    "\n",
    "print(\"Clean aligned pairs:\", len(clean_data))\n",
    "print(\"Example:\\n\", clean_data[0])"
   ]
  },
  {
   "cell_type": "code",
   "execution_count": 33,
   "id": "b3930517",
   "metadata": {},
   "outputs": [
    {
     "name": "stdout",
     "output_type": "stream",
     "text": [
      "[(' ', 28192), ('a', 13832), ('i', 13162), ('u', 11481), ('š', 9707), ('.', 9657), ('(', 9248), (')', 9248), ('n', 7210), ('-', 7066), ('d', 7029), ('g', 6739), ('₂', 5335), ('r', 3787), ('l', 3777), ('b', 3436), ('<', 3421), ('>', 3421), ('e', 3275), ('k', 3203)]\n"
     ]
    }
   ],
   "source": [
    "from collections import Counter\n",
    "counter = Counter(c for _, t in data for c in t)\n",
    "print(counter.most_common(20))"
   ]
  },
  {
   "cell_type": "code",
   "execution_count": 34,
   "id": "91469c50",
   "metadata": {},
   "outputs": [
    {
     "name": "stdout",
     "output_type": "stream",
     "text": [
      "Exported training data to sumerian_glyph2translit_clean.jsonl\n"
     ]
    }
   ],
   "source": [
    "#Export Dataset for Training (glyphs → transliteration)\n",
    "\n",
    "import json\n",
    "\n",
    "with open(\"sumerian_glyph2translit_clean.jsonl\", \"w\", encoding=\"utf-8\") as f:\n",
    "    for row in clean_data:\n",
    "        json.dump({\"input\": row[\"glyphs\"], \"target\": row[\"tokens\"]}, f, ensure_ascii=False)\n",
    "        f.write(\"\\n\")\n",
    "\n",
    "print(\"Exported training data to sumerian_glyph2translit_clean.jsonl\")\n"
   ]
  },
  {
   "cell_type": "markdown",
   "id": "a347b5fc",
   "metadata": {},
   "source": [
    "### Character-level sequence-to-sequence LSTM model"
   ]
  },
  {
   "cell_type": "code",
   "execution_count": 35,
   "id": "447a9392",
   "metadata": {},
   "outputs": [],
   "source": [
    "import json\n",
    "import torch\n",
    "import torch.nn as nn\n",
    "from torch.utils.data import Dataset, DataLoader\n",
    "from collections import Counter\n",
    "from tqdm import tqdm\n",
    "import random\n",
    "import numpy as np\n",
    "\n",
    "# Load the clean dataset\n",
    "data = []\n",
    "with open(\"sumerian_glyph2translit_clean.jsonl\", \"r\", encoding=\"utf-8\") as f:\n",
    "    for line in f:\n",
    "        item = json.loads(line)\n",
    "        data.append((item[\"input\"], item[\"target\"]))\n",
    "\n",
    "# Optional: reduce data for testing\n",
    "data = data[:50000]"
   ]
  },
  {
   "cell_type": "code",
   "execution_count": 36,
   "id": "2419f68e",
   "metadata": {},
   "outputs": [],
   "source": [
    "def build_vocab(seqs):\n",
    "    chars = set(c for seq in seqs for c in seq)\n",
    "    vocab = {\"<pad>\": 0, \"<sos>\": 1, \"<eos>\": 2, \"<unk>\": 3}\n",
    "    vocab.update({c: i+4 for i, c in enumerate(sorted(chars))})\n",
    "    return vocab\n",
    "\n",
    "input_vocab = build_vocab([g for g, t in data])\n",
    "target_vocab = build_vocab([t for g, t in data])\n",
    "inv_target_vocab = {i: c for c, i in target_vocab.items()}\n"
   ]
  },
  {
   "cell_type": "code",
   "execution_count": 37,
   "id": "c31fa6e9",
   "metadata": {},
   "outputs": [],
   "source": [
    "class TransliterationDataset(Dataset):\n",
    "    def __init__(self, pairs, in_vocab, out_vocab, max_len=64):\n",
    "        self.pairs = pairs\n",
    "        self.in_vocab = in_vocab\n",
    "        self.out_vocab = out_vocab\n",
    "        self.max_len = max_len\n",
    "\n",
    "    def __len__(self):\n",
    "        return len(self.pairs)\n",
    "\n",
    "    def encode_seq(self, seq, vocab):\n",
    "        return [vocab.get(c, vocab[\"<unk>\"]) for c in seq]\n",
    "\n",
    "    def __getitem__(self, idx):\n",
    "        glyphs, translit = self.pairs[idx]\n",
    "        src = self.encode_seq(glyphs, self.in_vocab)\n",
    "        tgt = [self.out_vocab[\"<sos>\"]] + self.encode_seq(translit, self.out_vocab) + [self.out_vocab[\"<eos>\"]]\n",
    "        return torch.tensor(src), torch.tensor(tgt)\n",
    "\n",
    "dataset = TransliterationDataset(data, input_vocab, target_vocab)\n",
    "dataloader = DataLoader(dataset, batch_size=32, shuffle=True, collate_fn=lambda batch: zip(*batch))"
   ]
  },
  {
   "cell_type": "code",
   "execution_count": 38,
   "id": "d2fb9119",
   "metadata": {},
   "outputs": [],
   "source": [
    "class Seq2Seq(nn.Module):\n",
    "    def __init__(self, in_vocab_size, out_vocab_size, hidden=512):\n",
    "        super().__init__()\n",
    "        self.encoder_emb = nn.Embedding(in_vocab_size, hidden)\n",
    "        self.encoder = nn.LSTM(hidden, hidden, batch_first=True)\n",
    "\n",
    "        self.decoder_emb = nn.Embedding(out_vocab_size, hidden)\n",
    "        self.decoder = nn.LSTM(hidden, hidden, batch_first=True)\n",
    "        self.output = nn.Linear(hidden, out_vocab_size)\n",
    "\n",
    "    def forward(self, src, tgt):\n",
    "        # Encode\n",
    "        src_emb = self.encoder_emb(src)\n",
    "        _, (h, c) = self.encoder(src_emb)\n",
    "\n",
    "        # Decode\n",
    "        tgt_emb = self.decoder_emb(tgt[:, :-1])\n",
    "        output, _ = self.decoder(tgt_emb, (h, c))\n",
    "        logits = self.output(output)\n",
    "        return logits"
   ]
  },
  {
   "cell_type": "code",
   "execution_count": 40,
   "id": "af4f197e",
   "metadata": {},
   "outputs": [
    {
     "name": "stderr",
     "output_type": "stream",
     "text": [
      "100%|██████████| 35/35 [01:32<00:00,  2.66s/it]\n"
     ]
    },
    {
     "name": "stdout",
     "output_type": "stream",
     "text": [
      "Epoch 1 loss: 75.59\n"
     ]
    },
    {
     "name": "stderr",
     "output_type": "stream",
     "text": [
      "100%|██████████| 35/35 [01:40<00:00,  2.87s/it]\n"
     ]
    },
    {
     "name": "stdout",
     "output_type": "stream",
     "text": [
      "Epoch 2 loss: 43.26\n"
     ]
    },
    {
     "name": "stderr",
     "output_type": "stream",
     "text": [
      "100%|██████████| 35/35 [01:40<00:00,  2.88s/it]\n"
     ]
    },
    {
     "name": "stdout",
     "output_type": "stream",
     "text": [
      "Epoch 3 loss: 37.81\n"
     ]
    },
    {
     "name": "stderr",
     "output_type": "stream",
     "text": [
      "100%|██████████| 35/35 [01:40<00:00,  2.87s/it]\n"
     ]
    },
    {
     "name": "stdout",
     "output_type": "stream",
     "text": [
      "Epoch 4 loss: 35.24\n"
     ]
    },
    {
     "name": "stderr",
     "output_type": "stream",
     "text": [
      "100%|██████████| 35/35 [01:48<00:00,  3.11s/it]\n"
     ]
    },
    {
     "name": "stdout",
     "output_type": "stream",
     "text": [
      "Epoch 5 loss: 33.54\n"
     ]
    },
    {
     "name": "stderr",
     "output_type": "stream",
     "text": [
      "100%|██████████| 35/35 [01:47<00:00,  3.06s/it]\n"
     ]
    },
    {
     "name": "stdout",
     "output_type": "stream",
     "text": [
      "Epoch 6 loss: 32.12\n"
     ]
    },
    {
     "name": "stderr",
     "output_type": "stream",
     "text": [
      "100%|██████████| 35/35 [01:45<00:00,  3.02s/it]\n"
     ]
    },
    {
     "name": "stdout",
     "output_type": "stream",
     "text": [
      "Epoch 7 loss: 30.99\n"
     ]
    },
    {
     "name": "stderr",
     "output_type": "stream",
     "text": [
      "100%|██████████| 35/35 [01:46<00:00,  3.06s/it]\n"
     ]
    },
    {
     "name": "stdout",
     "output_type": "stream",
     "text": [
      "Epoch 8 loss: 30.09\n"
     ]
    },
    {
     "name": "stderr",
     "output_type": "stream",
     "text": [
      "100%|██████████| 35/35 [01:48<00:00,  3.11s/it]\n"
     ]
    },
    {
     "name": "stdout",
     "output_type": "stream",
     "text": [
      "Epoch 9 loss: 29.35\n"
     ]
    },
    {
     "name": "stderr",
     "output_type": "stream",
     "text": [
      "100%|██████████| 35/35 [01:46<00:00,  3.03s/it]"
     ]
    },
    {
     "name": "stdout",
     "output_type": "stream",
     "text": [
      "Epoch 10 loss: 28.33\n"
     ]
    },
    {
     "name": "stderr",
     "output_type": "stream",
     "text": [
      "\n"
     ]
    }
   ],
   "source": [
    "device = torch.device((\"cuda\" if torch.cuda.is_available() else \"cpu\"))\n",
    "model = Seq2Seq(len(input_vocab), len(target_vocab)).to(device)\n",
    "optimizer = torch.optim.Adam(model.parameters(), lr=1e-3)\n",
    "criterion = nn.CrossEntropyLoss(ignore_index=target_vocab[\"<pad>\"])\n",
    "\n",
    "for epoch in range(10):\n",
    "    model.train()\n",
    "    total_loss = 0\n",
    "    for srcs, tgts in tqdm(dataloader):\n",
    "        srcs = nn.utils.rnn.pad_sequence(srcs, batch_first=True, padding_value=0).to(device)\n",
    "        tgts = nn.utils.rnn.pad_sequence(tgts, batch_first=True, padding_value=0).to(device)\n",
    "\n",
    "        optimizer.zero_grad()\n",
    "        logits = model(srcs, tgts)\n",
    "        loss = criterion(logits.view(-1, logits.shape[-1]), tgts[:, 1:].reshape(-1))\n",
    "        loss.backward()\n",
    "        optimizer.step()\n",
    "        total_loss += loss.item()\n",
    "\n",
    "    print(f\"Epoch {epoch+1} loss: {total_loss:.2f}\")\n"
   ]
  },
  {
   "cell_type": "code",
   "execution_count": 41,
   "id": "9e5db898",
   "metadata": {},
   "outputs": [
    {
     "name": "stdout",
     "output_type": "stream",
     "text": [
      "Glyphs: 𒊺𒄥𒊕𒅅𒂍𒇷𒇷𒋃𒋗𒁀𒋾\n",
      "Predicted transliteration: <SURFACE> <COLUMN> 1(u) 6(diš) udu 1(diš) udu 1(diš) udu 1(diš) udu 1(diš) udu 1(diš) udu 1(diš) udu\n",
      "Ground truth: <SURFACE> 7(aš) še gur sag gal₂ <unk> e₂-li-li sanga šu ba-ti\n"
     ]
    }
   ],
   "source": [
    "# Greedy decoding\n",
    "\n",
    "def decode_glyphs(glyph_seq, max_len=100):\n",
    "    model.eval()\n",
    "    src = torch.tensor([input_vocab.get(c, input_vocab[\"<unk>\"]) for c in glyph_seq], device=device).unsqueeze(0)\n",
    "    with torch.no_grad():\n",
    "        src_emb = model.encoder_emb(src)\n",
    "        _, (h, c) = model.encoder(src_emb)\n",
    "\n",
    "        dec_input = torch.tensor([[target_vocab[\"<sos>\"]]], device=device)\n",
    "        output = \"\"\n",
    "\n",
    "        for _ in range(max_len):\n",
    "            emb = model.decoder_emb(dec_input)\n",
    "            dec_out, (h, c) = model.decoder(emb, (h, c))\n",
    "            logits = model.output(dec_out[:, -1])\n",
    "            next_token = logits.argmax(dim=-1).item()\n",
    "            if next_token == target_vocab[\"<eos>\"]:\n",
    "                break\n",
    "            output += inv_target_vocab.get(next_token, \"?\")\n",
    "            dec_input = torch.tensor([[next_token]], device=device)\n",
    "    return output\n",
    "\n",
    "# Try decoding one example\n",
    "test_glyphs = data[42][0]\n",
    "print(\"Glyphs:\", test_glyphs)\n",
    "print(\"Predicted transliteration:\", decode_glyphs(test_glyphs))\n",
    "print(\"Ground truth:\", data[42][1])\n"
   ]
  },
  {
   "cell_type": "code",
   "execution_count": 42,
   "id": "0b3cfa86",
   "metadata": {},
   "outputs": [
    {
     "name": "stdout",
     "output_type": "stream",
     "text": [
      "Character-level accuracy: 19.46%\n"
     ]
    }
   ],
   "source": [
    "# Measure character-level accuracy\n",
    "correct = 0\n",
    "total = 0\n",
    "\n",
    "for glyphs, true_translit in data[100:200]:  # eval subset\n",
    "    pred = decode_glyphs(glyphs)\n",
    "    min_len = min(len(pred), len(true_translit))\n",
    "    for i in range(min_len):\n",
    "        if pred[i] == true_translit[i]:\n",
    "            correct += 1\n",
    "        total += 1\n",
    "\n",
    "print(f\"Character-level accuracy: {correct / total:.2%}\")"
   ]
  },
  {
   "cell_type": "code",
   "execution_count": 43,
   "id": "3a8539ca",
   "metadata": {},
   "outputs": [
    {
     "name": "stdout",
     "output_type": "stream",
     "text": [
      "Exact matches: 0.00%\n"
     ]
    }
   ],
   "source": [
    "print(f\"Exact matches: {np.array([pred == true_translit for glyphs, true_translit in data[100:200] for pred in [decode_glyphs(glyphs).strip()]]).sum()/len(data[100:200]):.2%}\")"
   ]
  }
 ],
 "metadata": {
  "kernelspec": {
   "display_name": "Python 3",
   "language": "python",
   "name": "python3"
  },
  "language_info": {
   "codemirror_mode": {
    "name": "ipython",
    "version": 3
   },
   "file_extension": ".py",
   "mimetype": "text/x-python",
   "name": "python",
   "nbconvert_exporter": "python",
   "pygments_lexer": "ipython3",
   "version": "3.12.0"
  }
 },
 "nbformat": 4,
 "nbformat_minor": 5
}
