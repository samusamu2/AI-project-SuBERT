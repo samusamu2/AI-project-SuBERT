{
 "cells": [
  {
   "cell_type": "code",
   "execution_count": null,
   "id": "566eca10",
   "metadata": {},
   "outputs": [
    {
     "name": "stdout",
     "output_type": "stream",
     "text": [
      "Collecting mmcv\n",
      "  Using cached mmcv-2.2.0.tar.gz (479 kB)\n",
      "  Preparing metadata (setup.py) ... \u001b[?25ldone\n",
      "\u001b[?25hRequirement already satisfied: addict in /anaconda/envs/azureml_py310_sdkv2/lib/python3.10/site-packages (from mmcv) (2.4.0)\n",
      "Requirement already satisfied: mmengine>=0.3.0 in /anaconda/envs/azureml_py310_sdkv2/lib/python3.10/site-packages (from mmcv) (0.10.7)\n",
      "Requirement already satisfied: numpy in /anaconda/envs/azureml_py310_sdkv2/lib/python3.10/site-packages (from mmcv) (2.1.3)\n",
      "Requirement already satisfied: packaging in /anaconda/envs/azureml_py310_sdkv2/lib/python3.10/site-packages (from mmcv) (24.2)\n",
      "Requirement already satisfied: Pillow in /anaconda/envs/azureml_py310_sdkv2/lib/python3.10/site-packages (from mmcv) (11.1.0)\n",
      "Requirement already satisfied: pyyaml in /anaconda/envs/azureml_py310_sdkv2/lib/python3.10/site-packages (from mmcv) (6.0.2)\n",
      "Requirement already satisfied: yapf in /anaconda/envs/azureml_py310_sdkv2/lib/python3.10/site-packages (from mmcv) (0.43.0)\n",
      "Requirement already satisfied: matplotlib in /anaconda/envs/azureml_py310_sdkv2/lib/python3.10/site-packages (from mmengine>=0.3.0->mmcv) (3.10.0)\n",
      "Requirement already satisfied: rich in /anaconda/envs/azureml_py310_sdkv2/lib/python3.10/site-packages (from mmengine>=0.3.0->mmcv) (13.4.2)\n",
      "Requirement already satisfied: termcolor in /anaconda/envs/azureml_py310_sdkv2/lib/python3.10/site-packages (from mmengine>=0.3.0->mmcv) (3.1.0)\n",
      "Requirement already satisfied: opencv-python>=3 in /anaconda/envs/azureml_py310_sdkv2/lib/python3.10/site-packages (from mmengine>=0.3.0->mmcv) (4.11.0.86)\n",
      "Requirement already satisfied: platformdirs>=3.5.1 in /anaconda/envs/azureml_py310_sdkv2/lib/python3.10/site-packages (from yapf->mmcv) (4.3.8)\n",
      "Requirement already satisfied: tomli>=2.0.1 in /anaconda/envs/azureml_py310_sdkv2/lib/python3.10/site-packages (from yapf->mmcv) (2.2.1)\n",
      "Requirement already satisfied: contourpy>=1.0.1 in /anaconda/envs/azureml_py310_sdkv2/lib/python3.10/site-packages (from matplotlib->mmengine>=0.3.0->mmcv) (1.3.1)\n",
      "Requirement already satisfied: cycler>=0.10 in /anaconda/envs/azureml_py310_sdkv2/lib/python3.10/site-packages (from matplotlib->mmengine>=0.3.0->mmcv) (0.12.1)\n",
      "Requirement already satisfied: fonttools>=4.22.0 in /anaconda/envs/azureml_py310_sdkv2/lib/python3.10/site-packages (from matplotlib->mmengine>=0.3.0->mmcv) (4.55.3)\n",
      "Requirement already satisfied: kiwisolver>=1.3.1 in /anaconda/envs/azureml_py310_sdkv2/lib/python3.10/site-packages (from matplotlib->mmengine>=0.3.0->mmcv) (1.4.8)\n",
      "Requirement already satisfied: pyparsing>=2.3.1 in /anaconda/envs/azureml_py310_sdkv2/lib/python3.10/site-packages (from matplotlib->mmengine>=0.3.0->mmcv) (3.2.1)\n",
      "Requirement already satisfied: python-dateutil>=2.7 in /anaconda/envs/azureml_py310_sdkv2/lib/python3.10/site-packages (from matplotlib->mmengine>=0.3.0->mmcv) (2.9.0.post0)\n",
      "Requirement already satisfied: markdown-it-py>=2.2.0 in /anaconda/envs/azureml_py310_sdkv2/lib/python3.10/site-packages (from rich->mmengine>=0.3.0->mmcv) (3.0.0)\n",
      "Requirement already satisfied: pygments<3.0.0,>=2.13.0 in /anaconda/envs/azureml_py310_sdkv2/lib/python3.10/site-packages (from rich->mmengine>=0.3.0->mmcv) (2.19.1)\n",
      "Requirement already satisfied: mdurl~=0.1 in /anaconda/envs/azureml_py310_sdkv2/lib/python3.10/site-packages (from markdown-it-py>=2.2.0->rich->mmengine>=0.3.0->mmcv) (0.1.2)\n",
      "Requirement already satisfied: six>=1.5 in /anaconda/envs/azureml_py310_sdkv2/lib/python3.10/site-packages (from python-dateutil>=2.7->matplotlib->mmengine>=0.3.0->mmcv) (1.17.0)\n",
      "Building wheels for collected packages: mmcv\n",
      "  Building wheel for mmcv (setup.py) ... \u001b[?25l/"
     ]
    }
   ],
   "source": [
    "!pip install mmengine\n",
    "!pip install mmcv\n",
    "!pip install mmdet\n"
   ]
  }
 ],
 "metadata": {
  "kernelspec": {
   "display_name": "azureml_py310_sdkv2",
   "language": "python",
   "name": "python3"
  },
  "language_info": {
   "codemirror_mode": {
    "name": "ipython",
    "version": 3
   },
   "file_extension": ".py",
   "mimetype": "text/x-python",
   "name": "python",
   "nbconvert_exporter": "python",
   "pygments_lexer": "ipython3",
   "version": "3.10.16"
  }
 },
 "nbformat": 4,
 "nbformat_minor": 5
}
