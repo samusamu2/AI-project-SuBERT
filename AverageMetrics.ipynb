{
 "cells": [
  {
   "cell_type": "code",
   "execution_count": 26,
   "id": "491ae166",
   "metadata": {},
   "outputs": [
    {
     "data": {
      "text/html": [
       "<div>\n",
       "<style scoped>\n",
       "    .dataframe tbody tr th:only-of-type {\n",
       "        vertical-align: middle;\n",
       "    }\n",
       "\n",
       "    .dataframe tbody tr th {\n",
       "        vertical-align: top;\n",
       "    }\n",
       "\n",
       "    .dataframe thead th {\n",
       "        text-align: right;\n",
       "    }\n",
       "</style>\n",
       "<table border=\"1\" class=\"dataframe\">\n",
       "  <thead>\n",
       "    <tr style=\"text-align: right;\">\n",
       "      <th></th>\n",
       "      <th>input_text</th>\n",
       "      <th>true_translation</th>\n",
       "      <th>generated_text</th>\n",
       "      <th>METEOR</th>\n",
       "      <th>chrF</th>\n",
       "    </tr>\n",
       "  </thead>\n",
       "  <tbody>\n",
       "    <tr>\n",
       "      <th>0</th>\n",
       "      <td>1(u) la₂ 1(diš) udu u₄ 2(u) 8(diš)-kam ki ab-b...</td>\n",
       "      <td>9 rams, 28th day, from Abba-saga, Nalu accepte...</td>\n",
       "      <td>9 rams, 28th day, from Abba-saga, Nalu accepte...</td>\n",
       "      <td>0.871614</td>\n",
       "      <td>0.849497</td>\n",
       "    </tr>\n",
       "    <tr>\n",
       "      <th>1</th>\n",
       "      <td>3(diš) 1/2(diš) gin₂ 1(u) 5(diš) še ku₃-babbar...</td>\n",
       "      <td>3 1/2 shekels 15 grains of silver, for interes...</td>\n",
       "      <td>(For) 3 1/3 shekels 15 grains silver, (for) Ur...</td>\n",
       "      <td>0.368595</td>\n",
       "      <td>0.464667</td>\n",
       "    </tr>\n",
       "    <tr>\n",
       "      <th>2</th>\n",
       "      <td>6(diš) murgu₂ peš 2(geš₂) 4(u) 5(diš) {geš}umb...</td>\n",
       "      <td>6 date palm spines, 165 boat ribs(?), 6 pine t...</td>\n",
       "      <td>6 ewes, 25 billy goats, full grown, 65 fat-tai...</td>\n",
       "      <td>0.260639</td>\n",
       "      <td>0.398453</td>\n",
       "    </tr>\n",
       "    <tr>\n",
       "      <th>3</th>\n",
       "      <td>1/3(diš) kuš gu₄ 1(diš) sa gu₄ 2(diš) kuš udu ...</td>\n",
       "      <td>1/3 oxen hide, 1 (bundle of) oxen sinews, 2 sh...</td>\n",
       "      <td>1 jug wort, 1 billy goat, 2 jennies, suckling,...</td>\n",
       "      <td>0.260204</td>\n",
       "      <td>0.337466</td>\n",
       "    </tr>\n",
       "    <tr>\n",
       "      <th>4</th>\n",
       "      <td>da-da u₃-na-a-du₁₁ 3(gešʾu) sa gi &lt;unk&gt; giri₃-...</td>\n",
       "      <td>To Dada, say: “1800 bundles of fire-reeds, to(...</td>\n",
       "      <td>To Dada speak: 30 bundles of fodder reed, via ...</td>\n",
       "      <td>0.290453</td>\n",
       "      <td>0.449618</td>\n",
       "    </tr>\n",
       "    <tr>\n",
       "      <th>5</th>\n",
       "      <td>...6(diš) geme₂ 3(ban₂) ...1(diš)-še₃ šu ur₃ z...</td>\n",
       "      <td>n + 6 female laborers, 3 ban2, for one day, to...</td>\n",
       "      <td>n + 6 female laborers, 3 ban2 each, for 3 mont...</td>\n",
       "      <td>0.303996</td>\n",
       "      <td>0.312806</td>\n",
       "    </tr>\n",
       "    <tr>\n",
       "      <th>6</th>\n",
       "      <td>1(u) 4(diš) gu₄ geš ki na-sa₆-ta e₂-u₆-e i₃-da...</td>\n",
       "      <td>14 plough oxen from Nasa E’u’e received; month...</td>\n",
       "      <td>14 plough oxen from Nasa E’u’e accepted; month...</td>\n",
       "      <td>0.535714</td>\n",
       "      <td>0.547376</td>\n",
       "    </tr>\n",
       "    <tr>\n",
       "      <th>7</th>\n",
       "      <td>1(diš) am gu₄ 1(diš) amar &lt;unk&gt; am u₄ 2(u) 1(d...</td>\n",
       "      <td>1 wild ox, 1 wild heifer calf, 21st day, from ...</td>\n",
       "      <td>1 bull calf, 1 full-grown billy, 21st day; fro...</td>\n",
       "      <td>0.432361</td>\n",
       "      <td>0.629034</td>\n",
       "    </tr>\n",
       "    <tr>\n",
       "      <th>8</th>\n",
       "      <td>2(geš₂) 2(u) 4(diš) gu₄ ab₂ hi-a 5(gešʾu) 8(ge...</td>\n",
       "      <td>144 various oxen and cows, 3513 various sheep ...</td>\n",
       "      <td>144 oxen and cows, 35 sheep, barley-fed, from ...</td>\n",
       "      <td>0.144185</td>\n",
       "      <td>0.288682</td>\n",
       "    </tr>\n",
       "    <tr>\n",
       "      <th>9</th>\n",
       "      <td>2(u) {geš}il₂ kun-zi-da a-pi₄-sal₄{ki}še₃ geme...</td>\n",
       "      <td>20 corvée baskets: to the weir of Apisal, did ...</td>\n",
       "      <td>20 shekels silver, from the account of Apisal ...</td>\n",
       "      <td>0.459816</td>\n",
       "      <td>0.501395</td>\n",
       "    </tr>\n",
       "    <tr>\n",
       "      <th>10</th>\n",
       "      <td>1(diš) udu-nita₂ bar-gal₂ ba-uš₂ ki lu₂{d}utu-...</td>\n",
       "      <td>1 ram, with fleece, slaughtered, from Lu-Utu. ...</td>\n",
       "      <td>1 sheep, barley-fed, slaughtered, from Lu-Utu,...</td>\n",
       "      <td>0.674046</td>\n",
       "      <td>0.713968</td>\n",
       "    </tr>\n",
       "    <tr>\n",
       "      <th>11</th>\n",
       "      <td>2(aš) 3(barig) 5(ban₂) 8(diš) 1/3(diš) sila₃ n...</td>\n",
       "      <td>2 gur 3 barig 5 ban2 8 1/3 sila3 ŠU-bread book...</td>\n",
       "      <td>2 gur 3 barig, 5 ban2 8 1/2 sila3 Šu-g</td>\n",
       "      <td>0.158596</td>\n",
       "      <td>0.091662</td>\n",
       "    </tr>\n",
       "    <tr>\n",
       "      <th>12</th>\n",
       "      <td>5(ban₂) 6(diš) sila₃ dabin u₄ 2(u) 8(diš)-kam ...</td>\n",
       "      <td>5 ban2 6 sila3 barley flour on the 28th day; f...</td>\n",
       "      <td>5 ban2 6 sila3 of dabin(-flour), on the 28th d...</td>\n",
       "      <td>0.315303</td>\n",
       "      <td>0.367874</td>\n",
       "    </tr>\n",
       "    <tr>\n",
       "      <th>13</th>\n",
       "      <td>1(u) 5(diš) guruš u₄ 1(diš)-še₃ ka-giri₃-da ba...</td>\n",
       "      <td>(1) 15 male laborer days on duty at the basin ...</td>\n",
       "      <td>15 laborer workdays, at the threshing floor of...</td>\n",
       "      <td>0.487268</td>\n",
       "      <td>0.533469</td>\n",
       "    </tr>\n",
       "    <tr>\n",
       "      <th>14</th>\n",
       "      <td>1(u) gun₂ pa {geš}&lt;unk&gt; e₂-kikken₂ ba-ba sag₁₀...</td>\n",
       "      <td>10 talents branches of willow (for) the mill o...</td>\n",
       "      <td>10 talents of poplar leaves. From E’urbidu. Na...</td>\n",
       "      <td>0.263854</td>\n",
       "      <td>0.345299</td>\n",
       "    </tr>\n",
       "    <tr>\n",
       "      <th>15</th>\n",
       "      <td>5(geš₂) 2(u) 5(diš) udu 4(u) 4(diš) sila₄ 2(ge...</td>\n",
       "      <td>337 rams, 34 male lambs, 147 billy goats, 11 m...</td>\n",
       "      <td>55 sheep, 44 ewes, 4 lambs, 21 nanny goats, 21...</td>\n",
       "      <td>0.399507</td>\n",
       "      <td>0.515304</td>\n",
       "    </tr>\n",
       "    <tr>\n",
       "      <th>16</th>\n",
       "      <td>2(diš) sila₄ ga 1(diš) kir₁₁ ga u₃-tu-da e₂-ud...</td>\n",
       "      <td>2 male lambs, suckling, 1 female lamb, sucklin...</td>\n",
       "      <td>2 suckling lambs, 1 suckling ewe lamb, newborn...</td>\n",
       "      <td>0.527108</td>\n",
       "      <td>0.644525</td>\n",
       "    </tr>\n",
       "    <tr>\n",
       "      <th>17</th>\n",
       "      <td>1(geš₂) 2(u) 4(barig) še gur še geš e₃-a a-ša₃...</td>\n",
       "      <td>80 gur 4 barig barley, barley winnowed with a ...</td>\n",
       "      <td>144 gur 4 barig barley, fodder of grain-fed sh...</td>\n",
       "      <td>0.331272</td>\n",
       "      <td>0.369370</td>\n",
       "    </tr>\n",
       "    <tr>\n",
       "      <th>18</th>\n",
       "      <td>1(gešʾu) 3(u) 3(diš) ad₆(|LU₂.LAGAB×U|) udu ma...</td>\n",
       "      <td>633 carcasses, various sheep and goats, from N...</td>\n",
       "      <td>1333 carcasses, various sheep, grass-fed, from...</td>\n",
       "      <td>0.732353</td>\n",
       "      <td>0.863704</td>\n",
       "    </tr>\n",
       "    <tr>\n",
       "      <th>19</th>\n",
       "      <td>pisan dub-ba gaba-ri kišib₃ lu₂ nig₂-dab₅-ke₄-...</td>\n",
       "      <td>Basket-of-tablets: copies, sealed documents, m...</td>\n",
       "      <td>Basket-of-tablets: sealed documents of conveya...</td>\n",
       "      <td>0.488219</td>\n",
       "      <td>0.658881</td>\n",
       "    </tr>\n",
       "    <tr>\n",
       "      <th>20</th>\n",
       "      <td>pisan dub-ba ...&lt;unk&gt; &lt;unk&gt; ...&lt;unk&gt; ku₆ še .....</td>\n",
       "      <td>Basket-of-tablets: xxx xxx xxx xxx xxx</td>\n",
       "      <td>Basket-of-tablets: ... ... ... in the ‘house,’...</td>\n",
       "      <td>0.280830</td>\n",
       "      <td>0.444544</td>\n",
       "    </tr>\n",
       "    <tr>\n",
       "      <th>21</th>\n",
       "      <td>pisan dub-ba im di-til-la {d}šara₂-kam ensi₂-k...</td>\n",
       "      <td>Basket-of-tablets: tablets, completed legal ca...</td>\n",
       "      <td>Basket-of-tablets: tablets, judgments, of Šara...</td>\n",
       "      <td>0.382304</td>\n",
       "      <td>0.673218</td>\n",
       "    </tr>\n",
       "    <tr>\n",
       "      <th>22</th>\n",
       "      <td>pisan dub-ba sag nig₂-gur₁₁ ma-ni ša₃ gir₂-su{...</td>\n",
       "      <td>Basket-of-tablets: debits, Mani, in Girsu, are...</td>\n",
       "      <td>Basket-of-tablets: debits and credits of Mani,...</td>\n",
       "      <td>0.579221</td>\n",
       "      <td>0.713265</td>\n",
       "    </tr>\n",
       "    <tr>\n",
       "      <th>23</th>\n",
       "      <td>pisan dub-ba nig₂-ka₉ ak i-din-er₃-ra iti še-s...</td>\n",
       "      <td>Basket-of-tablets: accounts of Idin-Erra, from...</td>\n",
       "      <td>Basket-of-tablets: accounts of Idin-Erra, from...</td>\n",
       "      <td>0.751698</td>\n",
       "      <td>0.691085</td>\n",
       "    </tr>\n",
       "  </tbody>\n",
       "</table>\n",
       "</div>"
      ],
      "text/plain": [
       "                                           input_text  \\\n",
       "0   1(u) la₂ 1(diš) udu u₄ 2(u) 8(diš)-kam ki ab-b...   \n",
       "1   3(diš) 1/2(diš) gin₂ 1(u) 5(diš) še ku₃-babbar...   \n",
       "2   6(diš) murgu₂ peš 2(geš₂) 4(u) 5(diš) {geš}umb...   \n",
       "3   1/3(diš) kuš gu₄ 1(diš) sa gu₄ 2(diš) kuš udu ...   \n",
       "4   da-da u₃-na-a-du₁₁ 3(gešʾu) sa gi <unk> giri₃-...   \n",
       "5   ...6(diš) geme₂ 3(ban₂) ...1(diš)-še₃ šu ur₃ z...   \n",
       "6   1(u) 4(diš) gu₄ geš ki na-sa₆-ta e₂-u₆-e i₃-da...   \n",
       "7   1(diš) am gu₄ 1(diš) amar <unk> am u₄ 2(u) 1(d...   \n",
       "8   2(geš₂) 2(u) 4(diš) gu₄ ab₂ hi-a 5(gešʾu) 8(ge...   \n",
       "9   2(u) {geš}il₂ kun-zi-da a-pi₄-sal₄{ki}še₃ geme...   \n",
       "10  1(diš) udu-nita₂ bar-gal₂ ba-uš₂ ki lu₂{d}utu-...   \n",
       "11  2(aš) 3(barig) 5(ban₂) 8(diš) 1/3(diš) sila₃ n...   \n",
       "12  5(ban₂) 6(diš) sila₃ dabin u₄ 2(u) 8(diš)-kam ...   \n",
       "13  1(u) 5(diš) guruš u₄ 1(diš)-še₃ ka-giri₃-da ba...   \n",
       "14  1(u) gun₂ pa {geš}<unk> e₂-kikken₂ ba-ba sag₁₀...   \n",
       "15  5(geš₂) 2(u) 5(diš) udu 4(u) 4(diš) sila₄ 2(ge...   \n",
       "16  2(diš) sila₄ ga 1(diš) kir₁₁ ga u₃-tu-da e₂-ud...   \n",
       "17  1(geš₂) 2(u) 4(barig) še gur še geš e₃-a a-ša₃...   \n",
       "18  1(gešʾu) 3(u) 3(diš) ad₆(|LU₂.LAGAB×U|) udu ma...   \n",
       "19  pisan dub-ba gaba-ri kišib₃ lu₂ nig₂-dab₅-ke₄-...   \n",
       "20  pisan dub-ba ...<unk> <unk> ...<unk> ku₆ še .....   \n",
       "21  pisan dub-ba im di-til-la {d}šara₂-kam ensi₂-k...   \n",
       "22  pisan dub-ba sag nig₂-gur₁₁ ma-ni ša₃ gir₂-su{...   \n",
       "23  pisan dub-ba nig₂-ka₉ ak i-din-er₃-ra iti še-s...   \n",
       "\n",
       "                                     true_translation  \\\n",
       "0   9 rams, 28th day, from Abba-saga, Nalu accepte...   \n",
       "1   3 1/2 shekels 15 grains of silver, for interes...   \n",
       "2   6 date palm spines, 165 boat ribs(?), 6 pine t...   \n",
       "3   1/3 oxen hide, 1 (bundle of) oxen sinews, 2 sh...   \n",
       "4   To Dada, say: “1800 bundles of fire-reeds, to(...   \n",
       "5   n + 6 female laborers, 3 ban2, for one day, to...   \n",
       "6   14 plough oxen from Nasa E’u’e received; month...   \n",
       "7   1 wild ox, 1 wild heifer calf, 21st day, from ...   \n",
       "8   144 various oxen and cows, 3513 various sheep ...   \n",
       "9   20 corvée baskets: to the weir of Apisal, did ...   \n",
       "10  1 ram, with fleece, slaughtered, from Lu-Utu. ...   \n",
       "11  2 gur 3 barig 5 ban2 8 1/3 sila3 ŠU-bread book...   \n",
       "12  5 ban2 6 sila3 barley flour on the 28th day; f...   \n",
       "13  (1) 15 male laborer days on duty at the basin ...   \n",
       "14  10 talents branches of willow (for) the mill o...   \n",
       "15  337 rams, 34 male lambs, 147 billy goats, 11 m...   \n",
       "16  2 male lambs, suckling, 1 female lamb, sucklin...   \n",
       "17  80 gur 4 barig barley, barley winnowed with a ...   \n",
       "18  633 carcasses, various sheep and goats, from N...   \n",
       "19  Basket-of-tablets: copies, sealed documents, m...   \n",
       "20             Basket-of-tablets: xxx xxx xxx xxx xxx   \n",
       "21  Basket-of-tablets: tablets, completed legal ca...   \n",
       "22  Basket-of-tablets: debits, Mani, in Girsu, are...   \n",
       "23  Basket-of-tablets: accounts of Idin-Erra, from...   \n",
       "\n",
       "                                       generated_text    METEOR      chrF  \n",
       "0   9 rams, 28th day, from Abba-saga, Nalu accepte...  0.871614  0.849497  \n",
       "1   (For) 3 1/3 shekels 15 grains silver, (for) Ur...  0.368595  0.464667  \n",
       "2   6 ewes, 25 billy goats, full grown, 65 fat-tai...  0.260639  0.398453  \n",
       "3   1 jug wort, 1 billy goat, 2 jennies, suckling,...  0.260204  0.337466  \n",
       "4   To Dada speak: 30 bundles of fodder reed, via ...  0.290453  0.449618  \n",
       "5   n + 6 female laborers, 3 ban2 each, for 3 mont...  0.303996  0.312806  \n",
       "6   14 plough oxen from Nasa E’u’e accepted; month...  0.535714  0.547376  \n",
       "7   1 bull calf, 1 full-grown billy, 21st day; fro...  0.432361  0.629034  \n",
       "8   144 oxen and cows, 35 sheep, barley-fed, from ...  0.144185  0.288682  \n",
       "9   20 shekels silver, from the account of Apisal ...  0.459816  0.501395  \n",
       "10  1 sheep, barley-fed, slaughtered, from Lu-Utu,...  0.674046  0.713968  \n",
       "11             2 gur 3 barig, 5 ban2 8 1/2 sila3 Šu-g  0.158596  0.091662  \n",
       "12  5 ban2 6 sila3 of dabin(-flour), on the 28th d...  0.315303  0.367874  \n",
       "13  15 laborer workdays, at the threshing floor of...  0.487268  0.533469  \n",
       "14  10 talents of poplar leaves. From E’urbidu. Na...  0.263854  0.345299  \n",
       "15  55 sheep, 44 ewes, 4 lambs, 21 nanny goats, 21...  0.399507  0.515304  \n",
       "16  2 suckling lambs, 1 suckling ewe lamb, newborn...  0.527108  0.644525  \n",
       "17  144 gur 4 barig barley, fodder of grain-fed sh...  0.331272  0.369370  \n",
       "18  1333 carcasses, various sheep, grass-fed, from...  0.732353  0.863704  \n",
       "19  Basket-of-tablets: sealed documents of conveya...  0.488219  0.658881  \n",
       "20  Basket-of-tablets: ... ... ... in the ‘house,’...  0.280830  0.444544  \n",
       "21  Basket-of-tablets: tablets, judgments, of Šara...  0.382304  0.673218  \n",
       "22  Basket-of-tablets: debits and credits of Mani,...  0.579221  0.713265  \n",
       "23  Basket-of-tablets: accounts of Idin-Erra, from...  0.751698  0.691085  "
      ]
     },
     "execution_count": 26,
     "metadata": {},
     "output_type": "execute_result"
    }
   ],
   "source": [
    "import re\n",
    "import pandas as pd\n",
    "from nltk.translate.meteor_score import single_meteor_score\n",
    "from nltk.translate.chrf_score import sentence_chrf\n",
    "\n",
    "# Load file content\n",
    "file_path = \"GPTgenerated.txt\"\n",
    "with open(file_path, \"r\", encoding=\"utf-8\") as f:\n",
    "    text = f.read()\n",
    "\n",
    "# Regex pattern to extract the translation triplets\n",
    "pattern = re.compile(\n",
    "    r\"Testo di input:\\s*Sumerian:\\s+(?P<testo_input>.*?)\\nEnglish:\\s*\\nTraduzione effettiva:\\s+(?P<traduzione_effettiva>.*?)\\nTesto Generato: Sumerian:.*?\\nEnglish:\\s+(?P<testo_generato>.*?)(?=\\n---|\\Z)\",\n",
    "    re.DOTALL\n",
    ")\n",
    "\n",
    "matches = pattern.findall(text)\n",
    "\n",
    "# Process each match\n",
    "data = []\n",
    "for m in matches:\n",
    "    input_text = m[0].strip()\n",
    "    true_translation = m[1].strip()\n",
    "    generated_translation = m[2].strip()\n",
    "\n",
    "    meteor = single_meteor_score(true_translation.split(), generated_translation.split())\n",
    "    chrf = sentence_chrf(true_translation, generated_translation)\n",
    "\n",
    "    data.append({\n",
    "        \"input_text\": input_text,\n",
    "        \"true_translation\": true_translation,\n",
    "        \"generated_text\": generated_translation,\n",
    "        \"METEOR\": meteor,\n",
    "        \"chrF\": chrf,\n",
    "    })\n",
    "\n",
    "# Save final dataset\n",
    "df = pd.DataFrame(data)\n",
    "df.to_csv(\"backtranslation_roundtrip_eval.csv\", index=False)\n",
    "df"
   ]
  },
  {
   "cell_type": "code",
   "execution_count": 28,
   "id": "4946894e",
   "metadata": {},
   "outputs": [
    {
     "data": {
      "text/plain": [
       "(0.42913159136424994, 0.5168817358530862)"
      ]
     },
     "execution_count": 28,
     "metadata": {},
     "output_type": "execute_result"
    }
   ],
   "source": [
    "df[\"METEOR\"].mean(), df[\"chrF\"].mean()"
   ]
  },
  {
   "cell_type": "code",
   "execution_count": 1,
   "id": "0cff18c7",
   "metadata": {},
   "outputs": [
    {
     "data": {
      "application/vnd.jupyter.widget-view+json": {
       "model_id": "44457d80efa84a2c8c054df111d001ea",
       "version_major": 2,
       "version_minor": 0
      },
      "text/plain": [
       "modules.json:   0%|          | 0.00/229 [00:00<?, ?B/s]"
      ]
     },
     "metadata": {},
     "output_type": "display_data"
    },
    {
     "data": {
      "application/vnd.jupyter.widget-view+json": {
       "model_id": "0c60980a06764e01ad2573576bb13251",
       "version_major": 2,
       "version_minor": 0
      },
      "text/plain": [
       "config_sentence_transformers.json:   0%|          | 0.00/122 [00:00<?, ?B/s]"
      ]
     },
     "metadata": {},
     "output_type": "display_data"
    },
    {
     "data": {
      "application/vnd.jupyter.widget-view+json": {
       "model_id": "a9e440cedb214999832c11abd680a011",
       "version_major": 2,
       "version_minor": 0
      },
      "text/plain": [
       "README.md:   0%|          | 0.00/3.51k [00:00<?, ?B/s]"
      ]
     },
     "metadata": {},
     "output_type": "display_data"
    },
    {
     "data": {
      "application/vnd.jupyter.widget-view+json": {
       "model_id": "3dfba0bba6a74b09b309929732b9eee1",
       "version_major": 2,
       "version_minor": 0
      },
      "text/plain": [
       "sentence_bert_config.json:   0%|          | 0.00/53.0 [00:00<?, ?B/s]"
      ]
     },
     "metadata": {},
     "output_type": "display_data"
    },
    {
     "data": {
      "application/vnd.jupyter.widget-view+json": {
       "model_id": "9cabdf6ee8ac4edbb2f919fafab1bd3b",
       "version_major": 2,
       "version_minor": 0
      },
      "text/plain": [
       "config.json:   0%|          | 0.00/629 [00:00<?, ?B/s]"
      ]
     },
     "metadata": {},
     "output_type": "display_data"
    },
    {
     "name": "stderr",
     "output_type": "stream",
     "text": [
      "Xet Storage is enabled for this repo, but the 'hf_xet' package is not installed. Falling back to regular HTTP download. For better performance, install the package with: `pip install huggingface_hub[hf_xet]` or `pip install hf_xet`\n"
     ]
    },
    {
     "data": {
      "application/vnd.jupyter.widget-view+json": {
       "model_id": "b9e8a4a2a5de4c75a7beefddb199b3c7",
       "version_major": 2,
       "version_minor": 0
      },
      "text/plain": [
       "model.safetensors:   0%|          | 0.00/90.9M [00:00<?, ?B/s]"
      ]
     },
     "metadata": {},
     "output_type": "display_data"
    },
    {
     "data": {
      "application/vnd.jupyter.widget-view+json": {
       "model_id": "bd03421ce3d24f9ca932455f01a5d040",
       "version_major": 2,
       "version_minor": 0
      },
      "text/plain": [
       "tokenizer_config.json:   0%|          | 0.00/314 [00:00<?, ?B/s]"
      ]
     },
     "metadata": {},
     "output_type": "display_data"
    },
    {
     "data": {
      "application/vnd.jupyter.widget-view+json": {
       "model_id": "3914d96ac9cd487180563cd0fb1b6f4c",
       "version_major": 2,
       "version_minor": 0
      },
      "text/plain": [
       "vocab.txt:   0%|          | 0.00/232k [00:00<?, ?B/s]"
      ]
     },
     "metadata": {},
     "output_type": "display_data"
    },
    {
     "data": {
      "application/vnd.jupyter.widget-view+json": {
       "model_id": "aaf7b226516447cf93fdd169340a8527",
       "version_major": 2,
       "version_minor": 0
      },
      "text/plain": [
       "tokenizer.json:   0%|          | 0.00/466k [00:00<?, ?B/s]"
      ]
     },
     "metadata": {},
     "output_type": "display_data"
    },
    {
     "data": {
      "application/vnd.jupyter.widget-view+json": {
       "model_id": "aac975dc2f104e74906e40d944ddb097",
       "version_major": 2,
       "version_minor": 0
      },
      "text/plain": [
       "special_tokens_map.json:   0%|          | 0.00/112 [00:00<?, ?B/s]"
      ]
     },
     "metadata": {},
     "output_type": "display_data"
    },
    {
     "data": {
      "application/vnd.jupyter.widget-view+json": {
       "model_id": "d326a4cb9fad4ca885efa267fa9b1312",
       "version_major": 2,
       "version_minor": 0
      },
      "text/plain": [
       "config.json:   0%|          | 0.00/190 [00:00<?, ?B/s]"
      ]
     },
     "metadata": {},
     "output_type": "display_data"
    },
    {
     "data": {
      "image/png": "[encoded data removed]",
      "text/plain": [
       "<Figure size 800x500 with 1 Axes>"
      ]
     },
     "metadata": {},
     "output_type": "display_data"
    },
    {
     "name": "stdout",
     "output_type": "stream",
     "text": [
      "\n",
      "Embedding Similarity Summary:\n",
      "count    24.000000\n",
      "mean      0.721584\n",
      "std       0.153898\n",
      "min       0.391806\n",
      "25%       0.650990\n",
      "50%       0.724327\n",
      "75%       0.832195\n",
      "max       0.967076\n",
      "Name: embed_cosine, dtype: float64\n",
      "\n",
      "Top-5 Closest (🍀 High similarity):\n",
      "                                         reference_en  \\\n",
      "0   9 rams, 28th day, from Abba-saga, Nalu accepte...   \n",
      "18  633 carcasses, various sheep and goats, from N...   \n",
      "19  Basket-of-tablets: copies, sealed documents, m...   \n",
      "23  Basket-of-tablets: accounts of Idin-Erra, from...   \n",
      "10  1 ram, with fleece, slaughtered, from Lu-Utu. ...   \n",
      "\n",
      "                                         generated_en  embed_cosine  \n",
      "0   9 rams, 28th day, from Abba-saga, Nalu accepte...      0.967076  \n",
      "18  1333 carcasses, various sheep, grass-fed, from...      0.913056  \n",
      "19  Basket-of-tablets: sealed documents of conveya...      0.908848  \n",
      "23  Basket-of-tablets: accounts of Idin-Erra, from...      0.886375  \n",
      "10  1 sheep, barley-fed, slaughtered, from Lu-Utu,...      0.880679  \n",
      "\n",
      "Top-5 Furthest (⚠️ Low similarity):\n",
      "                                         reference_en  \\\n",
      "2   6 date palm spines, 165 boat ribs(?), 6 pine t...   \n",
      "9   20 corvée baskets: to the weir of Apisal, did ...   \n",
      "20             Basket-of-tablets: xxx xxx xxx xxx xxx   \n",
      "11  2 gur 3 barig 5 ban2 8 1/3 sila3 ŠU-bread book...   \n",
      "14  10 talents branches of willow (for) the mill o...   \n",
      "\n",
      "                                         generated_en  embed_cosine  \n",
      "2   6 ewes, 25 billy goats, full grown, 65 fat-tai...      0.391806  \n",
      "9   20 shekels silver, from the account of Apisal ...      0.479739  \n",
      "20  Basket-of-tablets: ... ... ... in the ‘house,’...      0.482909  \n",
      "11             2 gur 3 barig, 5 ban2 8 1/2 sila3 Šu-g      0.523625  \n",
      "14  10 talents of poplar leaves. From E’urbidu. Na...      0.567127  \n"
     ]
    }
   ],
   "source": [
    "import re\n",
    "import pandas as pd\n",
    "import matplotlib.pyplot as plt\n",
    "from sentence_transformers import SentenceTransformer, util\n",
    "\n",
    "# Read and parse your log file\n",
    "file_path = \"GPTgenerated.txt\"\n",
    "with open(file_path, \"r\", encoding=\"utf-8\") as f:\n",
    "    raw = f.read()\n",
    "\n",
    "# Regex to pull out: Sumerian input (ignored here), reference English, GPT English\n",
    "pattern = re.compile(\n",
    "    r\"Testo di input:\\s*Sumerian:\\s+.*?\\nEnglish:\\s*\\n\"\n",
    "    r\"Traduzione effettiva:\\s+(.*?)\\n\"\n",
    "    r\"Testo Generato:.*?\\nEnglish:\\s+(.*?)(?=\\n---|\\Z)\",\n",
    "    re.DOTALL\n",
    ")\n",
    "matches = pattern.findall(raw)\n",
    "\n",
    "# Build a DataFrame\n",
    "df = pd.DataFrame(matches, columns=[\"reference_en\", \"generated_en\"])\n",
    "df[\"reference_en\"] = df[\"reference_en\"].str.strip()\n",
    "df[\"generated_en\"] = df[\"generated_en\"].str.strip()\n",
    "\n",
    "# Load a pre-trained SentenceTransformer\n",
    "#    This model maps sentences to 384-dim vectors where semantically similar\n",
    "#    sentences lie close by (high cosine sim).\n",
    "model = SentenceTransformer('paraphrase-MiniLM-L6-v2')\n",
    "\n",
    "# Encode all sentences into embeddings\n",
    "emb_ref = model.encode(df[\"reference_en\"].tolist(), convert_to_tensor=True)\n",
    "emb_gen = model.encode(df[\"generated_en\"].tolist(),  convert_to_tensor=True)\n",
    "\n",
    "# Compute pairwise cosine similarities\n",
    "#    cos_sim = (A · B) / (||A|| · ||B||) ∈ [-1,1], where 1 = identical\n",
    "cosine_scores = util.cos_sim(emb_ref, emb_gen).diagonal().cpu().numpy()\n",
    "df[\"embed_cosine\"] = cosine_scores\n",
    "\n",
    "# Plot the distribution of semantic similarity\n",
    "plt.figure(figsize=(8,5))\n",
    "plt.hist(df[\"embed_cosine\"], bins=20, edgecolor=\"black\", color=\"skyblue\")\n",
    "plt.title(\"Semantic (Embedding) Similarity: Reference vs GPT Output\")\n",
    "plt.xlabel(\"Cosine Similarity\")\n",
    "plt.ylabel(\"Count\")\n",
    "plt.grid(alpha=0.3)\n",
    "plt.show()\n",
    "\n",
    "# Print summary and best/worst cases\n",
    "print(\"\\nEmbedding Similarity Summary:\")\n",
    "print(df[\"embed_cosine\"].describe())\n",
    "\n",
    "print(\"\\nTop-5 Closest (High similarity):\")\n",
    "print(df.nlargest(5, \"embed_cosine\")[[\"reference_en\",\"generated_en\",\"embed_cosine\"]])\n",
    "\n",
    "print(\"\\nTop-5 Furthest (Low similarity):\")\n",
    "print(df.nsmallest(5, \"embed_cosine\")[[\"reference_en\",\"generated_en\",\"embed_cosine\"]])\n"
   ]
  },
  {
   "cell_type": "code",
   "execution_count": 4,
   "id": "87f37f83",
   "metadata": {},
   "outputs": [
    {
     "name": "stderr",
     "output_type": "stream",
     "text": [
      "huggingface/tokenizers: The current process just got forked, after parallelism has already been used. Disabling parallelism to avoid deadlocks...\n",
      "To disable this warning, you can either:\n",
      "\t- Avoid using `tokenizers` before the fork if possible\n",
      "\t- Explicitly set the environment variable TOKENIZERS_PARALLELISM=(true | false)\n"
     ]
    },
    {
     "name": "stdout",
     "output_type": "stream",
     "text": [
      "Collecting en-core-web-sm==3.8.0\n",
      "  Downloading https://github.com/explosion/spacy-models/releases/download/en_core_web_sm-3.8.0/en_core_web_sm-3.8.0-py3-none-any.whl (12.8 MB)\n",
      "\u001b[2K     \u001b[90m━━━━━━━━━━━━━━━━━━━━━━━━━━━━━━━━━━━━━━━━\u001b[0m \u001b[32m12.8/12.8 MB\u001b[0m \u001b[31m2.8 MB/s\u001b[0m eta \u001b[36m0:00:00\u001b[0ma \u001b[36m0:00:01\u001b[0m\n",
      "\u001b[?25hInstalling collected packages: en-core-web-sm\n",
      "Successfully installed en-core-web-sm-3.8.0\n",
      "\u001b[38;5;2m✔ Download and installation successful\u001b[0m\n",
      "You can now load the package via spacy.load('en_core_web_sm')\n",
      "\u001b[38;5;3m⚠ Restart to reload dependencies\u001b[0m\n",
      "If you are in a Jupyter or Colab notebook, you may need to restart Python in\n",
      "order to load all the package's dependencies. You can do this by selecting the\n",
      "'Restart kernel' or 'Restart runtime' option.\n"
     ]
    },
    {
     "data": {
      "image/png": "[encoded data removed]",
      "text/plain": [
       "<Figure size 800x500 with 1 Axes>"
      ]
     },
     "metadata": {},
     "output_type": "display_data"
    },
    {
     "name": "stdout",
     "output_type": "stream",
     "text": [
      "Syntactic LAS Summary:\n",
      "count    24.000000\n",
      "mean      0.170610\n",
      "std       0.158251\n",
      "min       0.000000\n",
      "25%       0.040843\n",
      "50%       0.126818\n",
      "75%       0.250000\n",
      "max       0.523810\n",
      "Name: LAS, dtype: float64\n",
      "\n",
      "Worst Syntactic Drift (lowest LAS):\n",
      "                                            reference  \\\n",
      "8   144 various oxen and cows, 3513 various sheep ...   \n",
      "4   To Dada, say: “1800 bundles of fire-reeds, to(...   \n",
      "13  (1) 15 male laborer days on duty at the basin ...   \n",
      "2   6 date palm spines, 165 boat ribs(?), 6 pine t...   \n",
      "1   3 1/2 shekels 15 grains of silver, for interes...   \n",
      "\n",
      "                                            generated       LAS  \n",
      "8   144 oxen and cows, 35 sheep, barley-fed, from ...  0.000000  \n",
      "4   To Dada speak: 30 bundles of fodder reed, via ...  0.019231  \n",
      "13  15 laborer workdays, at the threshing floor of...  0.024390  \n",
      "2   6 ewes, 25 billy goats, full grown, 65 fat-tai...  0.025641  \n",
      "1   (For) 3 1/3 shekels 15 grains silver, (for) Ur...  0.028571  \n",
      "\n",
      "Best Syntactic Preservation (highest LAS):\n",
      "                                            reference  \\\n",
      "0   9 rams, 28th day, from Abba-saga, Nalu accepte...   \n",
      "6   14 plough oxen from Nasa E’u’e received; month...   \n",
      "20             Basket-of-tablets: xxx xxx xxx xxx xxx   \n",
      "23  Basket-of-tablets: accounts of Idin-Erra, from...   \n",
      "17  80 gur 4 barig barley, barley winnowed with a ...   \n",
      "\n",
      "                                            generated       LAS  \n",
      "0   9 rams, 28th day, from Abba-saga, Nalu accepte...  0.523810  \n",
      "6   14 plough oxen from Nasa E’u’e accepted; month...  0.470588  \n",
      "20  Basket-of-tablets: ... ... ... in the ‘house,’...  0.454545  \n",
      "23  Basket-of-tablets: accounts of Idin-Erra, from...  0.380952  \n",
      "17  144 gur 4 barig barley, fodder of grain-fed sh...  0.333333  \n"
     ]
    }
   ],
   "source": [
    "import re\n",
    "import pandas as pd\n",
    "import spacy\n",
    "import spacy.cli\n",
    "import matplotlib.pyplot as plt\n",
    "spacy.cli.download(\"en_core_web_sm\")\n",
    "\n",
    "# Load spaCy English parser\n",
    "nlp = spacy.load(\"en_core_web_sm\")\n",
    "\n",
    "# Read & parse GPTgenerated.txt\n",
    "file_path = \"GPTgenerated.txt\"\n",
    "with open(file_path, encoding=\"utf-8\") as f:\n",
    "    raw = f.read()\n",
    "\n",
    "pattern = re.compile(\n",
    "    r\"Testo di input:\\s*Sumerian:.*?\\nEnglish:\\s*\\n\"\n",
    "    r\"Traduzione effettiva:\\s+(.*?)\\n\"\n",
    "    r\"Testo Generato:.*?\\nEnglish:\\s+(.*?)(?=\\n---|\\Z)\",\n",
    "    re.DOTALL\n",
    ")\n",
    "pairs = pattern.findall(raw)\n",
    "\n",
    "records = []\n",
    "for ref_en, gen_en in pairs:\n",
    "    ref_sent = ref_en.strip()\n",
    "    gen_sent = gen_en.strip()\n",
    "\n",
    "    # Parse both sentences\n",
    "    doc_ref = nlp(ref_sent)\n",
    "    doc_gen = nlp(gen_sent)\n",
    "\n",
    "    # Compute Labeled Attachment Score (LAS)\n",
    "    #    For tokens i in both docs: compare (gen.head.i, gen.dep_) vs (ref.head.i, ref.dep_)\n",
    "    #    Only consider up to min(len(ref), len(gen)) tokens to align by position.\n",
    "    length = min(len(doc_ref), len(doc_gen))\n",
    "    correct = 0\n",
    "    for i in range(length):\n",
    "        token_ref = doc_ref[i]\n",
    "        token_gen = doc_gen[i]\n",
    "        # match head index and dependency label\n",
    "        if (token_gen.head.i == token_ref.head.i) and (token_gen.dep_ == token_ref.dep_):\n",
    "            correct += 1\n",
    "    las = correct / length if length > 0 else 0.0\n",
    "\n",
    "    records.append({\n",
    "        \"reference\": ref_sent,\n",
    "        \"generated\": gen_sent,\n",
    "        \"LAS\": las\n",
    "    })\n",
    "\n",
    "df = pd.DataFrame(records)\n",
    "\n",
    "# Plot LAS distribution\n",
    "plt.figure(figsize=(8,5))\n",
    "plt.hist(df[\"LAS\"], bins=20, color=\"lightgreen\", edgecolor=\"black\")\n",
    "plt.title(\"Syntactic Drift: Labeled Attachment Score (LAS)\")\n",
    "plt.xlabel(\"LAS (proportion of matching head+dep per token)\")\n",
    "plt.ylabel(\"Number of Examples\")\n",
    "plt.axvline(df[\"LAS\"].mean(), color=\"red\", linestyle=\"--\",\n",
    "            label=f\"Mean LAS = {df['LAS'].mean():.2f}\")\n",
    "plt.legend()\n",
    "plt.grid(alpha=0.3)\n",
    "plt.tight_layout()\n",
    "plt.show()\n",
    "\n",
    "# Summary & examples\n",
    "print(\"Syntactic LAS Summary:\")\n",
    "print(df[\"LAS\"].describe())\n",
    "\n",
    "print(\"\\nWorst Syntactic Drift (lowest LAS):\")\n",
    "print(df.nsmallest(5, \"LAS\")[[\"reference\",\"generated\",\"LAS\"]])\n",
    "print(\"\\nBest Syntactic Preservation (highest LAS):\")\n",
    "print(df.nlargest(5, \"LAS\")[[\"reference\",\"generated\",\"LAS\"]])\n"
   ]
  },
  {
   "cell_type": "markdown",
   "id": "6ba69322",
   "metadata": {},
   "source": [
    "Notice how bad prediction of numbers is probably worsening the drift."
   ]
  }
 ],
 "metadata": {
  "kernelspec": {
   "display_name": "Python 3",
   "language": "python",
   "name": "python3"
  },
  "language_info": {
   "codemirror_mode": {
    "name": "ipython",
    "version": 3
   },
   "file_extension": ".py",
   "mimetype": "text/x-python",
   "name": "python",
   "nbconvert_exporter": "python",
   "pygments_lexer": "ipython3",
   "version": "3.12.0"
  }
 },
 "nbformat": 4,
 "nbformat_minor": 5
}
