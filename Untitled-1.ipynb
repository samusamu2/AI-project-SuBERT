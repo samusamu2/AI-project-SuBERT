{
 "cells": [
  {
   "cell_type": "code",
   "execution_count": null,
   "id": "afb9d91d",
   "metadata": {},
   "outputs": [],
   "source": [
    "import cv2\n",
    "import numpy as np\n",
    "from PIL import Image\n",
    "\n",
    "# ─── PARAMETERS ────────────────────────────────────────────────────────────────\n",
    "TEST_IMG_PATH = \"yolo_dataset/images/train/sentence_102.png\"  # Path to a single test image\n",
    "\n",
    "# ─── TEST PREDICTIONS ON SINGLE IMAGE ─────────────────────────────────────────\n",
    "def test_model_on_image(img_path):\n",
    "    # Load the test image\n",
    "    img = Image.open(img_path)\n",
    "    \n",
    "    # Perform segmentation prediction\n",
    "    # Load the best model from the training run\n",
    "    trained_model = YOLO('models/glyph_detector.pt')  # Path to the best weights\n",
    "\n",
    "    # Run inference with the trained model\n",
    "    results = trained_model(img)\n",
    "    \n",
    "    # The results are now a list of detections\n",
    "    result = results[0]  # The first (and only) result\n",
    "    \n",
    "    # Get predictions (boxes, scores, etc.)\n",
    "    boxes = result.boxes.xyxy.cpu().numpy()  # Bounding boxes (xyxy format)\n",
    "    confidences = result.boxes.conf.cpu().numpy()  # Confidence scores\n",
    "    class_ids = result.boxes.cls.cpu().numpy()  # Class IDs\n",
    "    \n",
    "    # Convert image for visualization (if needed)\n",
    "    img_cv2 = cv2.cvtColor(np.array(img), cv2.COLOR_RGB2BGR)\n",
    "    \n",
    "    # Draw predictions on the image\n",
    "    for box, conf, class_id in zip(boxes, confidences, class_ids):\n",
    "        x1, y1, x2, y2 = map(int, box)\n",
    "        color = (0, 255, 0)  # Green color for bounding box\n",
    "        cv2.rectangle(img_cv2, (x1, y1), (x2, y2), color, 2)\n",
    "        \n",
    "        # Draw label and confidence\n",
    "        label = f\"Glyph_{int(class_id)}: {conf:.2f}\"\n",
    "        cv2.putText(img_cv2, label, (x1, y1 - 10), cv2.FONT_HERSHEY_SIMPLEX, 0.5, color, 2)\n",
    "\n",
    "    # Show the image with OpenCV (no saving, just display)\n",
    "    cv2.imshow(\"Test Image with Predictions\", img_cv2)\n",
    "    cv2.waitKey(0)  # Wait for a key press to close the window\n",
    "    cv2.destroyAllWindows()\n",
    "\n",
    "# Test the model on the single image\n",
    "test_model_on_image(TEST_IMG_PATH)\n",
    "\n",
    "print(\"✅ Done: Testing complete, results displayed!\")\n"
   ]
  }
 ],
 "metadata": {
  "language_info": {
   "name": "python"
  }
 },
 "nbformat": 4,
 "nbformat_minor": 5
}
