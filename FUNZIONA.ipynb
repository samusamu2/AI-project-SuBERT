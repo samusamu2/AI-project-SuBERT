{
 "cells": [
  {
   "cell_type": "code",
   "execution_count": 1,
   "id": "5e4a1373",
   "metadata": {},
   "outputs": [
    {
     "name": "stdout",
     "output_type": "stream",
     "text": [
      "✅ Synthetic sentences generated.\n"
     ]
    }
   ],
   "source": [
    "# ✅ STEP 0: IMPORTS AND CONFIG\n",
    "import os\n",
    "import random\n",
    "import shutil\n",
    "from PIL import Image\n",
    "import numpy as np\n",
    "import cv2\n",
    "import matplotlib.pyplot as plt\n",
    "from ultralytics import YOLO\n",
    "\n",
    "# === CONFIG ===\n",
    "INPUT_DIR = r\"C:\\Users\\franc\\Desktop\\SUMERI\\glyph_images\"\n",
    "SYNTH_IMG_DIR = r\"C:\\Users\\franc\\Desktop\\SUMERI\\synthetic_sentences\"\n",
    "SYNTH_LBL_DIR = r\"C:\\Users\\franc\\Desktop\\SUMERI\\synthetic_sentences_labels\"\n",
    "YOLO_DATA_DIR = r\"C:\\Users\\franc\\Desktop\\SUMERI\\yolo_dataset\"\n",
    "CANVAS_SIZE = (1500, 150)\n",
    "GLYPHS_PER_SENTENCE = 10\n",
    "NUM_SENTENCES = 200\n",
    "\n",
    "# === PREPARE FOLDERS ===\n",
    "os.makedirs(SYNTH_IMG_DIR, exist_ok=True)\n",
    "os.makedirs(SYNTH_LBL_DIR, exist_ok=True)\n",
    "os.makedirs(os.path.join(YOLO_DATA_DIR, \"images\", \"train\"), exist_ok=True)\n",
    "os.makedirs(os.path.join(YOLO_DATA_DIR, \"labels\", \"train\"), exist_ok=True)\n",
    "\n",
    "# === STEP 1: SYNTHETIC SENTENCE GENERATION ===\n",
    "glyph_files = sorted([f for f in os.listdir(INPUT_DIR) if f.endswith(\".png\")])[:10]\n",
    "glyph_classes = {f: idx for idx, f in enumerate(glyph_files)}\n",
    "\n",
    "for i in range(NUM_SENTENCES):\n",
    "    canvas = Image.new('L', CANVAS_SIZE, color=255)\n",
    "    x_offset = 5\n",
    "    bboxes = []\n",
    "    random.shuffle(glyph_files)\n",
    "\n",
    "    for glyph_name in glyph_files:\n",
    "        class_id = glyph_classes[glyph_name]\n",
    "        glyph_path = os.path.join(INPUT_DIR, glyph_name)\n",
    "        glyph = Image.open(glyph_path).convert('L')\n",
    "\n",
    "        glyph_np = np.array(glyph)\n",
    "        mask = glyph_np < 250\n",
    "        if not np.any(mask):\n",
    "            continue\n",
    "\n",
    "        coords = np.argwhere(mask)\n",
    "        y0, x0 = coords.min(axis=0)\n",
    "        y1, x1 = coords.max(axis=0) + 1\n",
    "        cropped = glyph.crop((x0, y0, x1, y1))\n",
    "\n",
    "        max_height = CANVAS_SIZE[1] - 10\n",
    "        if cropped.height > max_height:\n",
    "            ratio = max_height / cropped.height\n",
    "            new_size = (int(cropped.width * ratio), max_height)\n",
    "            cropped = cropped.resize(new_size, resample=Image.BILINEAR)\n",
    "\n",
    "        y_offset = (CANVAS_SIZE[1] - cropped.height) // 2\n",
    "        canvas.paste(cropped, (x_offset, y_offset))\n",
    "\n",
    "        bbox_x_center = (x_offset + cropped.width / 2) / CANVAS_SIZE[0]\n",
    "        bbox_y_center = (y_offset + cropped.height / 2) / CANVAS_SIZE[1]\n",
    "        bbox_width = cropped.width / CANVAS_SIZE[0]\n",
    "        bbox_height = cropped.height / CANVAS_SIZE[1]\n",
    "        bboxes.append((class_id, bbox_x_center, bbox_y_center, bbox_width, bbox_height))\n",
    "\n",
    "        x_offset += cropped.width + 15\n",
    "\n",
    "    img_path = os.path.join(SYNTH_IMG_DIR, f\"sentence_{i}.png\")\n",
    "    canvas.convert(\"RGB\").save(img_path)\n",
    "    label_path = os.path.join(SYNTH_LBL_DIR, f\"sentence_{i}.txt\")\n",
    "    with open(label_path, 'w') as f:\n",
    "        for bbox in bboxes:\n",
    "            f.write(f\"{bbox[0]} {bbox[1]:.6f} {bbox[2]:.6f} {bbox[3]:.6f} {bbox[4]:.6f}\\n\")\n",
    "\n",
    "print(\"✅ Synthetic sentences generated.\")\n",
    "\n",
    "\n",
    "\n"
   ]
  },
  {
   "cell_type": "code",
   "execution_count": 6,
   "id": "7411fc63",
   "metadata": {},
   "outputs": [
    {
     "name": "stdout",
     "output_type": "stream",
     "text": [
      "✅ YOLO dataset folders populated.\n"
     ]
    }
   ],
   "source": [
    "import os\n",
    "import shutil\n",
    "\n",
    "YOLO_DATA_DIR = r\"C:\\Users\\franc\\Desktop\\SUMERI\\yolo_dataset\"\n",
    "SENT_IMG_DIR = r\"C:\\Users\\franc\\Desktop\\SUMERI\\synthetic_sentences\"\n",
    "SENT_LBL_DIR = r\"C:\\Users\\franc\\Desktop\\SUMERI\\synthetic_sentences_labels\"\n",
    "\n",
    "for split in [\"train\", \"val\"]:  # assuming val might be added later\n",
    "    os.makedirs(os.path.join(YOLO_DATA_DIR, \"images\", split), exist_ok=True)\n",
    "    os.makedirs(os.path.join(YOLO_DATA_DIR, \"labels\", split), exist_ok=True)\n",
    "\n",
    "for fn in os.listdir(SENT_IMG_DIR):\n",
    "    if fn.endswith(\".png\"):\n",
    "        shutil.copy(os.path.join(SENT_IMG_DIR, fn), os.path.join(YOLO_DATA_DIR, \"images\", \"train\", fn))\n",
    "\n",
    "for fn in os.listdir(SENT_LBL_DIR):\n",
    "    if fn.endswith(\".txt\"):\n",
    "        shutil.copy(os.path.join(SENT_LBL_DIR, fn), os.path.join(YOLO_DATA_DIR, \"labels\", \"train\", fn))\n",
    "\n",
    "print(\"✅ YOLO dataset folders populated.\")\n"
   ]
  },
  {
   "cell_type": "code",
   "execution_count": 10,
   "id": "478ada76",
   "metadata": {},
   "outputs": [
    {
     "name": "stdout",
     "output_type": "stream",
     "text": [
      "Ultralytics 8.3.120  Python-3.11.4 torch-2.1.0+cpu CPU (Intel Core(TM) i5-10210U 1.60GHz)\n",
      "\u001b[34m\u001b[1mengine\\trainer: \u001b[0mtask=detect, mode=train, model=yolov8n.pt, data=C:\\Users\\franc\\Desktop\\SUMERI\\yolo_dataset\\glyphs-seg.yaml, epochs=5, time=None, patience=10, batch=8, imgsz=640, save=True, save_period=-1, cache=False, device=None, workers=8, project=None, name=train2, exist_ok=False, pretrained=True, optimizer=auto, verbose=True, seed=0, deterministic=True, single_cls=False, rect=False, cos_lr=False, close_mosaic=10, resume=False, amp=True, fraction=1.0, profile=False, freeze=None, multi_scale=False, overlap_mask=True, mask_ratio=4, dropout=0.0, val=True, split=val, save_json=False, conf=None, iou=0.7, max_det=300, half=False, dnn=False, plots=True, source=None, vid_stride=1, stream_buffer=False, visualize=False, augment=False, agnostic_nms=False, classes=None, retina_masks=False, embed=None, show=False, save_frames=False, save_txt=False, save_conf=False, save_crop=False, show_labels=True, show_conf=True, show_boxes=True, line_width=None, format=torchscript, keras=False, optimize=False, int8=False, dynamic=False, simplify=True, opset=None, workspace=None, nms=False, lr0=0.01, lrf=0.01, momentum=0.937, weight_decay=0.0005, warmup_epochs=3.0, warmup_momentum=0.8, warmup_bias_lr=0.1, box=7.5, cls=0.5, dfl=1.5, pose=12.0, kobj=1.0, nbs=64, hsv_h=0.015, hsv_s=0.7, hsv_v=0.4, degrees=0.0, translate=0.1, scale=0.5, shear=0.0, perspective=0.0, flipud=0.0, fliplr=0.5, bgr=0.0, mosaic=1.0, mixup=0.0, cutmix=0.0, copy_paste=0.0, copy_paste_mode=flip, auto_augment=randaugment, erasing=0.4, cfg=None, tracker=botsort.yaml, save_dir=runs\\detect\\train2\n",
      "Overriding model.yaml nc=80 with nc=10\n",
      "\n",
      "                   from  n    params  module                                       arguments                     \n",
      "  0                  -1  1       464  ultralytics.nn.modules.conv.Conv             [3, 16, 3, 2]                 \n",
      "  1                  -1  1      4672  ultralytics.nn.modules.conv.Conv             [16, 32, 3, 2]                \n",
      "  2                  -1  1      7360  ultralytics.nn.modules.block.C2f             [32, 32, 1, True]             \n",
      "  3                  -1  1     18560  ultralytics.nn.modules.conv.Conv             [32, 64, 3, 2]                \n",
      "  4                  -1  2     49664  ultralytics.nn.modules.block.C2f             [64, 64, 2, True]             \n",
      "  5                  -1  1     73984  ultralytics.nn.modules.conv.Conv             [64, 128, 3, 2]               \n",
      "  6                  -1  2    197632  ultralytics.nn.modules.block.C2f             [128, 128, 2, True]           \n",
      "  7                  -1  1    295424  ultralytics.nn.modules.conv.Conv             [128, 256, 3, 2]              \n",
      "  8                  -1  1    460288  ultralytics.nn.modules.block.C2f             [256, 256, 1, True]           \n",
      "  9                  -1  1    164608  ultralytics.nn.modules.block.SPPF            [256, 256, 5]                 \n",
      " 10                  -1  1         0  torch.nn.modules.upsampling.Upsample         [None, 2, 'nearest']          \n",
      " 11             [-1, 6]  1         0  ultralytics.nn.modules.conv.Concat           [1]                           \n",
      " 12                  -1  1    148224  ultralytics.nn.modules.block.C2f             [384, 128, 1]                 \n",
      " 13                  -1  1         0  torch.nn.modules.upsampling.Upsample         [None, 2, 'nearest']          \n",
      " 14             [-1, 4]  1         0  ultralytics.nn.modules.conv.Concat           [1]                           \n",
      " 15                  -1  1     37248  ultralytics.nn.modules.block.C2f             [192, 64, 1]                  \n",
      " 16                  -1  1     36992  ultralytics.nn.modules.conv.Conv             [64, 64, 3, 2]                \n",
      " 17            [-1, 12]  1         0  ultralytics.nn.modules.conv.Concat           [1]                           \n",
      " 18                  -1  1    123648  ultralytics.nn.modules.block.C2f             [192, 128, 1]                 \n",
      " 19                  -1  1    147712  ultralytics.nn.modules.conv.Conv             [128, 128, 3, 2]              \n",
      " 20             [-1, 9]  1         0  ultralytics.nn.modules.conv.Concat           [1]                           \n",
      " 21                  -1  1    493056  ultralytics.nn.modules.block.C2f             [384, 256, 1]                 \n",
      " 22        [15, 18, 21]  1    753262  ultralytics.nn.modules.head.Detect           [10, [64, 128, 256]]          \n",
      "Model summary: 129 layers, 3,012,798 parameters, 3,012,782 gradients, 8.2 GFLOPs\n",
      "\n",
      "Transferred 319/355 items from pretrained weights\n",
      "Freezing layer 'model.22.dfl.conv.weight'\n",
      "\u001b[34m\u001b[1mtrain: \u001b[0mFast image access  (ping: 0.20.0 ms, read: 2.80.7 MB/s, size: 44.4 KB)\n"
     ]
    },
    {
     "name": "stderr",
     "output_type": "stream",
     "text": [
      "\u001b[34m\u001b[1mtrain: \u001b[0mScanning C:\\Users\\franc\\Desktop\\SUMERI\\yolo_dataset\\labels\\train.cache... 200 images, 0 backgrounds, 0 corrupt: 100%|██████████| 200/200 [00:00<?, ?it/s]"
     ]
    },
    {
     "name": "stdout",
     "output_type": "stream",
     "text": [
      "\u001b[34m\u001b[1mval: \u001b[0mFast image access  (ping: 0.20.0 ms, read: 3.30.4 MB/s, size: 44.3 KB)\n"
     ]
    },
    {
     "name": "stderr",
     "output_type": "stream",
     "text": [
      "\n",
      "\u001b[34m\u001b[1mval: \u001b[0mScanning C:\\Users\\franc\\Desktop\\SUMERI\\yolo_dataset\\labels\\train.cache... 200 images, 0 backgrounds, 0 corrupt: 100%|██████████| 200/200 [00:00<?, ?it/s]\n"
     ]
    },
    {
     "name": "stdout",
     "output_type": "stream",
     "text": [
      "Plotting labels to runs\\detect\\train2\\labels.jpg... \n",
      "\u001b[34m\u001b[1moptimizer:\u001b[0m 'optimizer=auto' found, ignoring 'lr0=0.01' and 'momentum=0.937' and determining best 'optimizer', 'lr0' and 'momentum' automatically... \n",
      "\u001b[34m\u001b[1moptimizer:\u001b[0m AdamW(lr=0.000714, momentum=0.9) with parameter groups 57 weight(decay=0.0), 64 weight(decay=0.0005), 63 bias(decay=0.0)\n",
      "Image sizes 640 train, 640 val\n",
      "Using 0 dataloader workers\n",
      "Logging results to \u001b[1mruns\\detect\\train2\u001b[0m\n",
      "Starting training for 5 epochs...\n",
      "\n",
      "      Epoch    GPU_mem   box_loss   cls_loss   dfl_loss  Instances       Size\n"
     ]
    },
    {
     "name": "stderr",
     "output_type": "stream",
     "text": [
      "        1/5         0G      1.335      4.089      1.096        183        640: 100%|██████████| 25/25 [01:39<00:00,  3.97s/it]\n",
      "                 Class     Images  Instances      Box(P          R      mAP50  mAP50-95): 100%|██████████| 13/13 [00:07<00:00,  1.85it/s]"
     ]
    },
    {
     "name": "stdout",
     "output_type": "stream",
     "text": [
      "                   all        200       2000     0.0311      0.878      0.152      0.112\n"
     ]
    },
    {
     "name": "stderr",
     "output_type": "stream",
     "text": [
      "\n"
     ]
    },
    {
     "name": "stdout",
     "output_type": "stream",
     "text": [
      "\n",
      "      Epoch    GPU_mem   box_loss   cls_loss   dfl_loss  Instances       Size\n"
     ]
    },
    {
     "name": "stderr",
     "output_type": "stream",
     "text": [
      "        2/5         0G     0.6482      3.114     0.8438        126        640: 100%|██████████| 25/25 [01:33<00:00,  3.75s/it]\n",
      "                 Class     Images  Instances      Box(P          R      mAP50  mAP50-95): 100%|██████████| 13/13 [00:07<00:00,  1.84it/s]"
     ]
    },
    {
     "name": "stdout",
     "output_type": "stream",
     "text": [
      "                   all        200       2000     0.0338      0.985      0.284       0.25\n"
     ]
    },
    {
     "name": "stderr",
     "output_type": "stream",
     "text": [
      "\n"
     ]
    },
    {
     "name": "stdout",
     "output_type": "stream",
     "text": [
      "\n",
      "      Epoch    GPU_mem   box_loss   cls_loss   dfl_loss  Instances       Size\n"
     ]
    },
    {
     "name": "stderr",
     "output_type": "stream",
     "text": [
      "        3/5         0G     0.5659      2.464     0.8235        143        640: 100%|██████████| 25/25 [01:35<00:00,  3.83s/it]\n",
      "                 Class     Images  Instances      Box(P          R      mAP50  mAP50-95): 100%|██████████| 13/13 [00:07<00:00,  1.84it/s]"
     ]
    },
    {
     "name": "stdout",
     "output_type": "stream",
     "text": [
      "                   all        200       2000      0.788       0.38       0.64      0.547\n"
     ]
    },
    {
     "name": "stderr",
     "output_type": "stream",
     "text": [
      "\n"
     ]
    },
    {
     "name": "stdout",
     "output_type": "stream",
     "text": [
      "\n",
      "      Epoch    GPU_mem   box_loss   cls_loss   dfl_loss  Instances       Size\n"
     ]
    },
    {
     "name": "stderr",
     "output_type": "stream",
     "text": [
      "        4/5         0G     0.4903      2.017     0.8183        143        640: 100%|██████████| 25/25 [01:33<00:00,  3.76s/it]\n",
      "                 Class     Images  Instances      Box(P          R      mAP50  mAP50-95): 100%|██████████| 13/13 [00:07<00:00,  1.78it/s]"
     ]
    },
    {
     "name": "stdout",
     "output_type": "stream",
     "text": [
      "                   all        200       2000      0.817      0.754      0.856      0.816\n"
     ]
    },
    {
     "name": "stderr",
     "output_type": "stream",
     "text": [
      "\n"
     ]
    },
    {
     "name": "stdout",
     "output_type": "stream",
     "text": [
      "\n",
      "      Epoch    GPU_mem   box_loss   cls_loss   dfl_loss  Instances       Size\n"
     ]
    },
    {
     "name": "stderr",
     "output_type": "stream",
     "text": [
      "        5/5         0G     0.4334      1.693     0.8071        148        640: 100%|██████████| 25/25 [01:34<00:00,  3.76s/it]\n",
      "                 Class     Images  Instances      Box(P          R      mAP50  mAP50-95): 100%|██████████| 13/13 [00:07<00:00,  1.82it/s]"
     ]
    },
    {
     "name": "stdout",
     "output_type": "stream",
     "text": [
      "                   all        200       2000      0.807      0.904      0.919      0.879\n"
     ]
    },
    {
     "name": "stderr",
     "output_type": "stream",
     "text": [
      "\n"
     ]
    },
    {
     "name": "stdout",
     "output_type": "stream",
     "text": [
      "\n",
      "5 epochs completed in 0.143 hours.\n",
      "Optimizer stripped from runs\\detect\\train2\\weights\\last.pt, 6.2MB\n",
      "Optimizer stripped from runs\\detect\\train2\\weights\\best.pt, 6.2MB\n",
      "\n",
      "Validating runs\\detect\\train2\\weights\\best.pt...\n",
      "Ultralytics 8.3.120  Python-3.11.4 torch-2.1.0+cpu CPU (Intel Core(TM) i5-10210U 1.60GHz)\n",
      "Model summary (fused): 72 layers, 3,007,598 parameters, 0 gradients, 8.1 GFLOPs\n"
     ]
    },
    {
     "name": "stderr",
     "output_type": "stream",
     "text": [
      "                 Class     Images  Instances      Box(P          R      mAP50  mAP50-95): 100%|██████████| 13/13 [00:07<00:00,  1.82it/s]\n"
     ]
    },
    {
     "name": "stdout",
     "output_type": "stream",
     "text": [
      "                   all        200       2000      0.807      0.904      0.919      0.879\n",
      "               Glyph_0        200        200          1          1      0.995      0.963\n",
      "               Glyph_1        200        200      0.956      0.976      0.984      0.975\n",
      "               Glyph_2        200        200      0.931      0.338      0.836      0.832\n",
      "               Glyph_3        200        200      0.891          1      0.995      0.806\n",
      "               Glyph_4        200        200      0.786      0.775      0.899      0.866\n",
      "               Glyph_5        200        200      0.505      0.975      0.925      0.919\n",
      "               Glyph_6        200        200      0.528          1      0.925      0.925\n",
      "               Glyph_7        200        200      0.999          1      0.995      0.887\n",
      "               Glyph_8        200        200      0.501       0.98      0.636      0.635\n",
      "               Glyph_9        200        200      0.978          1      0.995      0.982\n",
      "Speed: 0.3ms preprocess, 18.9ms inference, 0.0ms loss, 4.5ms postprocess per image\n",
      "Results saved to \u001b[1mruns\\detect\\train2\u001b[0m\n",
      "✅ Done: synthetic data with jitter & segmentation training complete!\n"
     ]
    }
   ],
   "source": [
    "# Copy into YOLO folder\n",
    "for fn in os.listdir(SENT_IMG_DIR):\n",
    "    if fn.endswith(\".png\"):\n",
    "        src = os.path.join(SENT_IMG_DIR, fn)\n",
    "        dst = os.path.join(YOLO_DATA_DIR, \"images\", \"train\", fn)\n",
    "        shutil.copy(src, dst)\n",
    "for fn in os.listdir(SENT_LBL_DIR):\n",
    "    if fn.endswith(\".txt\"):\n",
    "        src = os.path.join(SENT_LBL_DIR, fn)\n",
    "        dst = os.path.join(YOLO_DATA_DIR, \"labels\", \"train\", fn)\n",
    "        shutil.copy(src, dst)\n",
    "\n",
    "# ─── WRITE DATASET.YAML ───────────────────────────────────────────────────────\n",
    "yaml_txt = f\"\"\"\n",
    "path: {YOLO_DATA_DIR}\n",
    "train: images/train\n",
    "val: images/train\n",
    "\n",
    "names:\n",
    "\"\"\"\n",
    "for cid in range(GLYPHS_PER_SENTENCE):\n",
    "    yaml_txt += f\"  {cid}: Glyph_{cid}\\n\"\n",
    "\n",
    "with open(os.path.join(YOLO_DATA_DIR, \"glyphs-seg.yaml\"), \"w\") as f:\n",
    "    f.write(yaml_txt)\n",
    "\n",
    "# ─── TRAIN SEGMENTATION MODEL ─────────────────────────────────────────────────\n",
    "model = YOLO(\"yolov8n.pt\", task='segment')\n",
    "\n",
    "model.train(\n",
    "    data=os.path.join(YOLO_DATA_DIR, \"glyphs-seg.yaml\"),\n",
    "    epochs=5,\n",
    "    imgsz=640,\n",
    "    batch=8,\n",
    "    patience=10,\n",
    ")\n",
    "\n",
    "print(\"✅ Done: synthetic data with jitter & segmentation training complete!\")"
   ]
  },
  {
   "cell_type": "code",
   "execution_count": null,
   "id": "fd535049",
   "metadata": {},
   "outputs": [
    {
     "name": "stdout",
     "output_type": "stream",
     "text": [
      "\n",
      "0: 64x640 1 Glyph_0, 1 Glyph_3, 1 Glyph_5, 1 Glyph_7, 1 Glyph_9, 50.8ms\n",
      "Speed: 1.3ms preprocess, 50.8ms inference, 1.1ms postprocess per image at shape (1, 3, 64, 640)\n"
     ]
    }
   ],
   "source": [
    "import cv2\n",
    "import numpy as np\n",
    "from PIL import Image\n",
    "\n",
    "# ─── PARAMETERS ────────────────────────────────────────────────────────────────\n",
    "TEST_IMG_PATH = r\"C:\\Users\\franc\\Desktop\\SUMERI\\yolo_dataset\\images\\train\\sentence_1.png\"  # Path to a single test image\n",
    "\n",
    "# ─── TEST PREDICTIONS ON SINGLE IMAGE ─────────────────────────────────────────\n",
    "def test_model_on_image(img_path):\n",
    "    # Load the test image\n",
    "    img = Image.open(img_path)\n",
    "    \n",
    "    # Perform segmentation prediction\n",
    "    results = model(img)  # Use the pre-trained model\n",
    "    \n",
    "    # The results are now a list of detections\n",
    "    result = results[0]  # The first (and only) result\n",
    "    \n",
    "    # Get predictions (boxes, scores, etc.)\n",
    "    boxes = result.boxes.xyxy.cpu().numpy()  # Bounding boxes (xyxy format)\n",
    "    confidences = result.boxes.conf.cpu().numpy()  # Confidence scores\n",
    "    class_ids = result.boxes.cls.cpu().numpy()  # Class IDs\n",
    "    \n",
    "    # Convert image for visualization (if needed)\n",
    "    img_cv2 = cv2.cvtColor(np.array(img), cv2.COLOR_RGB2BGR)\n",
    "    \n",
    "    # Draw predictions on the image\n",
    "    for box, conf, class_id in zip(boxes, confidences, class_ids):\n",
    "        x1, y1, x2, y2 = map(int, box)\n",
    "        color = (0, 255, 0)  # Green color for bounding box\n",
    "        cv2.rectangle(img_cv2, (x1, y1), (x2, y2), color, 2)\n",
    "        \n",
    "        # Draw label and confidence\n",
    "        label = f\"Glyph_{int(class_id)}: {conf:.2f}\"\n",
    "        cv2.putText(img_cv2, label, (x1, y1 - 10), cv2.FONT_HERSHEY_SIMPLEX, 0.5, color, 2)\n",
    "\n",
    "    # Show the image with OpenCV (no saving, just display)\n",
    "    cv2.imshow(\"Test Image with Predictions\", img_cv2)\n",
    "    cv2.waitKey(0)  # Wait for a key press to close the window\n",
    "    cv2.destroyAllWindows()\n",
    "\n",
    "# Test the model on the single image\n",
    "test_model_on_image(TEST_IMG_PATH)\n",
    "\n",
    "print(\"✅ Done: Testing complete, results displayed!\")\n"
   ]
  }
 ],
 "metadata": {
  "kernelspec": {
   "display_name": "Python 3",
   "language": "python",
   "name": "python3"
  },
  "language_info": {
   "codemirror_mode": {
    "name": "ipython",
    "version": 3
   },
   "file_extension": ".py",
   "mimetype": "text/x-python",
   "name": "python",
   "nbconvert_exporter": "python",
   "pygments_lexer": "ipython3",
   "version": "3.11.4"
  }
 },
 "nbformat": 4,
 "nbformat_minor": 5
}
