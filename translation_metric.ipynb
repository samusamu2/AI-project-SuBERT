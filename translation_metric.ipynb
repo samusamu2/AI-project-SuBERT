{
 "cells": [
  {
   "cell_type": "code",
   "execution_count": 22,
   "id": "e05706aa",
   "metadata": {},
   "outputs": [
    {
     "name": "stderr",
     "output_type": "stream",
     "text": [
      "[nltk_data] Downloading package wordnet to\n",
      "[nltk_data]     /Users/lucamartucci/nltk_data...\n",
      "[nltk_data]   Package wordnet is already up-to-date!\n",
      "[nltk_data] Downloading package punkt_tab to\n",
      "[nltk_data]     /Users/lucamartucci/nltk_data...\n",
      "[nltk_data]   Package punkt_tab is already up-to-date!\n",
      "[nltk_data] Downloading package omw-1.4 to\n",
      "[nltk_data]     /Users/lucamartucci/nltk_data...\n",
      "[nltk_data]   Package omw-1.4 is already up-to-date!\n"
     ]
    },
    {
     "name": "stdout",
     "output_type": "stream",
     "text": [
      "\n",
      "DELETED_WORD:\n",
      "  METEOR: 0.9579\n",
      "  chrF  : 98.3615\n",
      "\n",
      "SWAPPED_WORDS:\n",
      "  METEOR: 0.9950\n",
      "  chrF  : 98.3496\n",
      "\n",
      "SYNONYMS:\n",
      "  METEOR: 0.9959\n",
      "  chrF  : 98.9052\n"
     ]
    }
   ],
   "source": [
    "from datasets import load_dataset\n",
    "import evaluate\n",
    "import random\n",
    "\n",
    "# Load 100 sample reference translations\n",
    "dataset = load_dataset(\"colesimmons/SumTablets_English\", split=\"train[:100]\")\n",
    "references = [ex[\"translation\"] for ex in dataset]  \n",
    "\n",
    "# Simple perturbation functions\n",
    "def delete_word(text):\n",
    "    words = text.split()\n",
    "    if len(words) > 3:\n",
    "        del words[random.randint(0, len(words)-1)]\n",
    "    return \" \".join(words)\n",
    "\n",
    "def swap_words(text):\n",
    "    words = text.split()\n",
    "    if len(words) > 3:\n",
    "        i = random.randint(0, len(words)-2)\n",
    "        words[i], words[i+1] = words[i+1], words[i]\n",
    "    return \" \".join(words)\n",
    "\n",
    "def replace_with_synonym(text):\n",
    "    replacements = {\"king\": \"monarch\", \"temple\": \"shrine\", \"city\": \"town\", \"god\": \"deity\", \"gave\": \"granted\"}\n",
    "    return \" \".join([replacements.get(w, w) for w in text.split()])\n",
    "\n",
    "perturbed = {\n",
    "    \"deleted_word\": [delete_word(text) for text in references],\n",
    "    \"swapped_words\": [swap_words(text) for text in references],\n",
    "    \"synonyms\": [replace_with_synonym(text) for text in references],\n",
    "}\n",
    "\n",
    "meteor = evaluate.load(\"meteor\")\n",
    "chrf = evaluate.load(\"chrf\")\n",
    "\n",
    "for name, hypotheses in perturbed.items():\n",
    "    meteor_score = meteor.compute(predictions=hypotheses, references=references)[\"meteor\"]\n",
    "    chrf_score = chrf.compute(predictions=hypotheses, references=references)[\"score\"]\n",
    "    \n",
    "    print(f\"\\n{name.upper()}:\")\n",
    "    print(f\"  METEOR: {meteor_score:.4f}\")\n",
    "    print(f\"  chrF  : {chrf_score:.4f}\")\n"
   ]
  },
  {
   "cell_type": "code",
   "execution_count": 23,
   "id": "375451b7",
   "metadata": {},
   "outputs": [
    {
     "name": "stdout",
     "output_type": "stream",
     "text": [
      "\n",
      "DELETED_PHRASE:\n",
      "  METEOR: 0.8694\n",
      "  chrF  : 88.7925\n",
      "\n",
      "REORDERED:\n",
      "  METEOR: 0.9522\n",
      "  chrF  : 88.5518\n",
      "\n",
      "SYNONYMS:\n",
      "  METEOR: 0.8490\n",
      "  chrF  : 64.0524\n",
      "\n",
      "INSERTION:\n",
      "  METEOR: 0.9828\n",
      "  chrF  : 95.0308\n"
     ]
    }
   ],
   "source": [
    "# Reference\n",
    "ref = [\n",
    "    \"2 goats. On the 22nd day. From Abbasaga. Received by Lu-dingira. Month: “Festival of Šulgi,” Year: “Ša-ašru was destroyed;” Total: 2.\"\n",
    "]\n",
    "\n",
    "# Variants (Hypotheses)\n",
    "hypotheses = {\n",
    "    \"deleted_phrase\": \"2 goats. From Abbasaga. Received by Lu-dingira. Month: “Festival of Šulgi,” Year: “Ša-ašru was destroyed;” Total: 2.\",\n",
    "    \n",
    "    \"reordered\": \"On the 22nd day. 2 goats. Received by Lu-dingira. From Abbasaga. Year: “Ša-ašru was destroyed;” Month: “Festival of Šulgi,” Total: 2.\",\n",
    "    \n",
    "    \"synonyms\": \"2 animals. On the 22nd day. Originating from Abbasaga. Handled by Lu-dingira. Month: “Šulgi's Festival,” Year: “Ša-ašru fell;” Total: 2.\",\n",
    "    \n",
    "    \"insertion\": \"2 goats. On the 22nd day. From Abbasaga. Received by Lu-dingira. Document was verified. Month: “Festival of Šulgi,” Year: “Ša-ašru was destroyed;” Total: 2.\",\n",
    "}\n",
    "\n",
    "# Score each variant\n",
    "for name, hyp in hypotheses.items():\n",
    "    meteor_score = meteor.compute(predictions=[hyp], references=ref)[\"meteor\"]\n",
    "    chrf_score = chrf.compute(predictions=[hyp], references=ref)[\"score\"]\n",
    "    print(f\"\\n{name.upper()}:\")\n",
    "    print(f\"  METEOR: {meteor_score:.4f}\")\n",
    "    print(f\"  chrF  : {chrf_score:.4f}\")\n"
   ]
  }
 ],
 "metadata": {
  "kernelspec": {
   "display_name": "Python 3",
   "language": "python",
   "name": "python3"
  },
  "language_info": {
   "codemirror_mode": {
    "name": "ipython",
    "version": 3
   },
   "file_extension": ".py",
   "mimetype": "text/x-python",
   "name": "python",
   "nbconvert_exporter": "python",
   "pygments_lexer": "ipython3",
   "version": "3.12.0"
  }
 },
 "nbformat": 4,
 "nbformat_minor": 5
}
