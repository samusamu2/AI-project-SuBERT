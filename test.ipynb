{
 "cells": [
  {
   "cell_type": "code",
   "execution_count": 1,
   "id": "34979d0a",
   "metadata": {},
   "outputs": [],
   "source": [
    "from rclone import move_folder_to_onedrive\n",
    "from rclone import download_folder_from_onedrive\n",
    "from rclone import update_folder_on_onedrive"
   ]
  },
  {
   "cell_type": "code",
   "execution_count": 4,
   "id": "effc3b98",
   "metadata": {},
   "outputs": [
    {
     "name": "stdout",
     "output_type": "stream",
     "text": [
      "Checking if the destination folder 'oh' already exists on OneDrive...\n",
      "Conflict detected: 'oh' already exists. Using 'oh_1' instead.\n",
      "Moving 'downloaded' to OneDrive: 'onedrive:AI-project/oh_1'...\n",
      "rclone command: rclone move downloaded onedrive:AI-project/oh_1 --create-empty-src-dirs -P\n",
      "SUCCESS: Folder 'downloaded' moved successfully to OneDrive.\n"
     ]
    },
    {
     "data": {
      "text/plain": [
       "True"
      ]
     },
     "execution_count": 4,
     "metadata": {},
     "output_type": "execute_result"
    }
   ],
   "source": [
    "move_folder_to_onedrive('downloaded', 'oh')"
   ]
  },
  {
   "cell_type": "code",
   "execution_count": 5,
   "id": "1748afbe",
   "metadata": {},
   "outputs": [
    {
     "name": "stdout",
     "output_type": "stream",
     "text": [
      "Downloading 'oh' from OneDrive to 'downloaded'...\n",
      "rclone command: rclone copy onedrive:AI-project/oh downloaded -P\n",
      "SUCCESS: Folder downloaded successfully.\n"
     ]
    },
    {
     "data": {
      "text/plain": [
       "True"
      ]
     },
     "execution_count": 5,
     "metadata": {},
     "output_type": "execute_result"
    }
   ],
   "source": [
    "download_folder_from_onedrive('oh', 'downloaded')"
   ]
  },
  {
   "cell_type": "code",
   "execution_count": 2,
   "id": "24540797",
   "metadata": {},
   "outputs": [
    {
     "name": "stdout",
     "output_type": "stream",
     "text": [
      "Updating 'oh' on OneDrive with 'downloaded'...\n",
      "rclone command: rclone sync downloaded onedrive:AI-project/oh -P\n",
      "SUCCESS: Folder updated successfully.\n",
      "Local folder 'downloaded' has been removed after successful update.\n"
     ]
    },
    {
     "data": {
      "text/plain": [
       "True"
      ]
     },
     "execution_count": 2,
     "metadata": {},
     "output_type": "execute_result"
    }
   ],
   "source": [
    "update_folder_on_onedrive('oh', 'downloaded')"
   ]
  }
 ],
 "metadata": {
  "kernelspec": {
   "display_name": "Python 3",
   "language": "python",
   "name": "python3"
  },
  "language_info": {
   "codemirror_mode": {
    "name": "ipython",
    "version": 3
   },
   "file_extension": ".py",
   "mimetype": "text/x-python",
   "name": "python",
   "nbconvert_exporter": "python",
   "pygments_lexer": "ipython3",
   "version": "3.12.10"
  }
 },
 "nbformat": 4,
 "nbformat_minor": 5
}
