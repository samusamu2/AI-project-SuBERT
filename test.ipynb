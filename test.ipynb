{
 "cells": [
  {
   "cell_type": "code",
   "execution_count": 1,
   "id": "d15b4ee9",
   "metadata": {},
   "outputs": [],
   "source": [
    "import rclone"
   ]
  },
  {
   "cell_type": "code",
   "execution_count": null,
   "id": "abb4c4e2",
   "metadata": {},
   "outputs": [
    {
     "ename": "TypeError",
     "evalue": "download_folder_from_onedrive() missing 1 required positional argument: 'local_destination_path'",
     "output_type": "error",
     "traceback": [
      "\u001b[1;31m---------------------------------------------------------------------------\u001b[0m",
      "\u001b[1;31mTypeError\u001b[0m                                 Traceback (most recent call last)",
      "Cell \u001b[1;32mIn[2], line 1\u001b[0m\n\u001b[1;32m----> 1\u001b[0m \u001b[43mrclone\u001b[49m\u001b[38;5;241;43m.\u001b[39;49m\u001b[43mdownload_folder_from_onedrive\u001b[49m\u001b[43m(\u001b[49m\u001b[38;5;124;43m'\u001b[39;49m\u001b[38;5;124;43mdatasets\u001b[39;49m\u001b[38;5;124;43m'\u001b[39;49m\u001b[43m)\u001b[49m\n",
      "\u001b[1;31mTypeError\u001b[0m: download_folder_from_onedrive() missing 1 required positional argument: 'local_destination_path'"
     ]
    }
   ],
   "source": [
    "rclone.download_folder_from_onedrive('datasets', './datasets')\n",
    "rclone.download_folder_from_onedrive('sumerian_gpt2_finetuned', 'sumerian_gpt2_finetuned')"
   ]
  }
 ],
 "metadata": {
  "kernelspec": {
   "display_name": "Python 3",
   "language": "python",
   "name": "python3"
  },
  "language_info": {
   "codemirror_mode": {
    "name": "ipython",
    "version": 3
   },
   "file_extension": ".py",
   "mimetype": "text/x-python",
   "name": "python",
   "nbconvert_exporter": "python",
   "pygments_lexer": "ipython3",
   "version": "3.12.10"
  }
 },
 "nbformat": 4,
 "nbformat_minor": 5
}
