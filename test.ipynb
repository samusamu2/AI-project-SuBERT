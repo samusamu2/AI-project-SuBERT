{
 "cells": [
  {
   "cell_type": "code",
   "execution_count": 1,
   "id": "d15b4ee9",
   "metadata": {},
   "outputs": [],
   "source": [
    "import rclone"
   ]
  },
  {
   "cell_type": "code",
   "execution_count": 2,
   "id": "abb4c4e2",
   "metadata": {},
   "outputs": [
    {
     "name": "stdout",
     "output_type": "stream",
     "text": [
      "Downloading 'datasets' from OneDrive to './datasets'...\n",
      "rclone command: rclone copy onedrive_bocconi:AI-project/datasets ./datasets -P\n",
      "ERROR: Command rclone not found. Make sure rclone is installed and in your PATH.\n",
      "Downloading 'sumerian_gpt2_finetuned' from OneDrive to 'sumerian_gpt2_finetuned'...\n",
      "rclone command: rclone copy onedrive_bocconi:AI-project/sumerian_gpt2_finetuned sumerian_gpt2_finetuned -P\n",
      "ERROR: Command rclone not found. Make sure rclone is installed and in your PATH.\n"
     ]
    },
    {
     "data": {
      "text/plain": [
       "False"
      ]
     },
     "execution_count": 2,
     "metadata": {},
     "output_type": "execute_result"
    }
   ],
   "source": [
    "rclone.download_folder_from_onedrive('datasets', './datasets')\n",
    "rclone.download_folder_from_onedrive('sumerian_gpt2_finetuned', 'sumerian_gpt2_finetuned')"
   ]
  }
 ],
 "metadata": {
  "kernelspec": {
   "display_name": "Python 3",
   "language": "python",
   "name": "python3"
  },
  "language_info": {
   "codemirror_mode": {
    "name": "ipython",
    "version": 3
   },
   "file_extension": ".py",
   "mimetype": "text/x-python",
   "name": "python",
   "nbconvert_exporter": "python",
   "pygments_lexer": "ipython3",
   "version": "3.12.0"
  }
 },
 "nbformat": 4,
 "nbformat_minor": 5
}
