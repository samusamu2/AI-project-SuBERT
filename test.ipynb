{
 "cells": [
  {
   "cell_type": "code",
   "execution_count": null,
   "id": "34979d0a",
   "metadata": {},
   "outputs": [],
   "source": [
    "from utils.rclone import move_folder_to_onedrive\n",
    "from utils.rclone import download_folder_from_onedrive\n",
    "from utils.rclone import update_folder_on_onedrive\n",
    "from utils.rclone import print_onedrive_folders"
   ]
  },
  {
   "cell_type": "code",
   "execution_count": 2,
   "id": "effc3b98",
   "metadata": {},
   "outputs": [
    {
     "name": "stdout",
     "output_type": "stream",
     "text": [
      "Checking if the destination folder 'datasets' already exists on OneDrive...\n",
      "Moving 'datasets' to OneDrive: 'onedrive_bocconi:AI-project/datasets'...\n",
      "rclone command: rclone move datasets onedrive_bocconi:AI-project/datasets --create-empty-src-dirs -P\n",
      "SUCCESS: Folder 'datasets' moved successfully to OneDrive.\n"
     ]
    },
    {
     "data": {
      "text/plain": [
       "True"
      ]
     },
     "execution_count": 2,
     "metadata": {},
     "output_type": "execute_result"
    }
   ],
   "source": [
    "move_folder_to_onedrive('datasets')"
   ]
  },
  {
   "cell_type": "code",
   "execution_count": 5,
   "id": "1748afbe",
   "metadata": {},
   "outputs": [
    {
     "name": "stdout",
     "output_type": "stream",
     "text": [
      "Downloading 'oh' from OneDrive to 'downloaded'...\n",
      "rclone command: rclone copy onedrive:AI-project/oh downloaded -P\n",
      "SUCCESS: Folder downloaded successfully.\n"
     ]
    },
    {
     "data": {
      "text/plain": [
       "True"
      ]
     },
     "execution_count": 5,
     "metadata": {},
     "output_type": "execute_result"
    }
   ],
   "source": [
    "download_folder_from_onedrive('oh', 'downloaded')"
   ]
  },
  {
   "cell_type": "code",
   "execution_count": 2,
   "id": "24540797",
   "metadata": {},
   "outputs": [
    {
     "name": "stdout",
     "output_type": "stream",
     "text": [
      "Updating 'oh' on OneDrive with 'downloaded'...\n",
      "rclone command: rclone sync downloaded onedrive:AI-project/oh -P\n",
      "SUCCESS: Folder updated successfully.\n",
      "Local folder 'downloaded' has been removed after successful update.\n"
     ]
    },
    {
     "data": {
      "text/plain": [
       "True"
      ]
     },
     "execution_count": 2,
     "metadata": {},
     "output_type": "execute_result"
    }
   ],
   "source": [
    "update_folder_on_onedrive('oh', 'downloaded')"
   ]
  },
  {
   "cell_type": "code",
   "execution_count": 3,
   "id": "99c5e506",
   "metadata": {},
   "outputs": [
    {
     "name": "stdout",
     "output_type": "stream",
     "text": [
      "OneDrive folders in onedrive:AI-project/\n",
      "==================================================\n",
      "oh\n",
      "oh_1\n",
      "sumerian-translation-model\n",
      "  ├── best_model\n",
      "  ├── runs\n",
      "    ├── May10_00-35-47_Samu_PC\n",
      "    ├── May11_15-16-14_labP1WE54\n",
      "    ├── May11_15-29-46_labP1WE54\n",
      "    ├── May11_15-48-54_labP1WE54\n",
      "==================================================\n"
     ]
    }
   ],
   "source": [
    "print_onedrive_folders()"
   ]
  },
  {
   "cell_type": "code",
   "execution_count": 5,
   "id": "216a74ff",
   "metadata": {},
   "outputs": [
    {
     "name": "stdout",
     "output_type": "stream",
     "text": [
      "OneDrive folders in onedrive:AI-project/\n",
      "==================================================\n",
      "oh\n",
      "oh_1\n",
      "sumerian-translation-model\n",
      "  ├── best_model\n",
      "  ├── runs\n",
      "    ├── May10_00-35-47_Samu_PC\n",
      "    ├── May11_15-16-14_labP1WE54\n",
      "    ├── May11_15-29-46_labP1WE54\n",
      "    ├── May11_15-48-54_labP1WE54\n",
      "==================================================\n"
     ]
    }
   ],
   "source": [
    "print_onedrive_folders()"
   ]
  }
 ],
 "metadata": {
  "kernelspec": {
   "display_name": "azureml_py310_sdkv2",
   "language": "python",
   "name": "python3"
  },
  "language_info": {
   "codemirror_mode": {
    "name": "ipython",
    "version": 3
   },
   "file_extension": ".py",
   "mimetype": "text/x-python",
   "name": "python",
   "nbconvert_exporter": "python",
   "pygments_lexer": "ipython3",
   "version": "3.10.16"
  }
 },
 "nbformat": 4,
 "nbformat_minor": 5
}
