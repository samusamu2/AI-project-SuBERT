{
 "cells": [
  {
   "cell_type": "markdown",
   "id": "20af0be5",
   "metadata": {},
   "source": [
    "## BPE for transliteration"
   ]
  },
  {
   "cell_type": "code",
   "execution_count": 1,
   "id": "3df4e237",
   "metadata": {},
   "outputs": [
    {
     "name": "stdout",
     "output_type": "stream",
     "text": [
      "Requirement already satisfied: tokenizers in /Library/Frameworks/Python.framework/Versions/3.12/lib/python3.12/site-packages (0.21.1)\n",
      "Requirement already satisfied: datasets in /Library/Frameworks/Python.framework/Versions/3.12/lib/python3.12/site-packages (3.5.0)\n",
      "Requirement already satisfied: huggingface-hub<1.0,>=0.16.4 in /Library/Frameworks/Python.framework/Versions/3.12/lib/python3.12/site-packages (from tokenizers) (0.30.2)\n",
      "Requirement already satisfied: filelock in /Library/Frameworks/Python.framework/Versions/3.12/lib/python3.12/site-packages (from datasets) (3.17.0)\n",
      "Requirement already satisfied: numpy>=1.17 in /Library/Frameworks/Python.framework/Versions/3.12/lib/python3.12/site-packages (from datasets) (1.26.2)\n",
      "Requirement already satisfied: pyarrow>=15.0.0 in /Library/Frameworks/Python.framework/Versions/3.12/lib/python3.12/site-packages (from datasets) (19.0.1)\n",
      "Requirement already satisfied: dill<0.3.9,>=0.3.0 in /Library/Frameworks/Python.framework/Versions/3.12/lib/python3.12/site-packages (from datasets) (0.3.8)\n",
      "Requirement already satisfied: pandas in /Library/Frameworks/Python.framework/Versions/3.12/lib/python3.12/site-packages (from datasets) (2.1.3)\n",
      "Requirement already satisfied: requests>=2.32.2 in /Library/Frameworks/Python.framework/Versions/3.12/lib/python3.12/site-packages (from datasets) (2.32.3)\n",
      "Requirement already satisfied: tqdm>=4.66.3 in /Library/Frameworks/Python.framework/Versions/3.12/lib/python3.12/site-packages (from datasets) (4.66.4)\n",
      "Requirement already satisfied: xxhash in /Library/Frameworks/Python.framework/Versions/3.12/lib/python3.12/site-packages (from datasets) (3.5.0)\n",
      "Requirement already satisfied: multiprocess<0.70.17 in /Library/Frameworks/Python.framework/Versions/3.12/lib/python3.12/site-packages (from datasets) (0.70.16)\n",
      "Requirement already satisfied: fsspec<=2024.12.0,>=2023.1.0 in /Library/Frameworks/Python.framework/Versions/3.12/lib/python3.12/site-packages (from fsspec[http]<=2024.12.0,>=2023.1.0->datasets) (2024.12.0)\n",
      "Requirement already satisfied: aiohttp in /Library/Frameworks/Python.framework/Versions/3.12/lib/python3.12/site-packages (from datasets) (3.11.18)\n",
      "Requirement already satisfied: packaging in /Users/lucamartucci/Library/Python/3.12/lib/python/site-packages (from datasets) (23.2)\n",
      "Requirement already satisfied: pyyaml>=5.1 in /Library/Frameworks/Python.framework/Versions/3.12/lib/python3.12/site-packages (from datasets) (6.0.1)\n",
      "Requirement already satisfied: aiohappyeyeballs>=2.3.0 in /Library/Frameworks/Python.framework/Versions/3.12/lib/python3.12/site-packages (from aiohttp->datasets) (2.6.1)\n",
      "Requirement already satisfied: aiosignal>=1.1.2 in /Library/Frameworks/Python.framework/Versions/3.12/lib/python3.12/site-packages (from aiohttp->datasets) (1.3.2)\n",
      "Requirement already satisfied: attrs>=17.3.0 in /Library/Frameworks/Python.framework/Versions/3.12/lib/python3.12/site-packages (from aiohttp->datasets) (25.3.0)\n",
      "Requirement already satisfied: frozenlist>=1.1.1 in /Library/Frameworks/Python.framework/Versions/3.12/lib/python3.12/site-packages (from aiohttp->datasets) (1.6.0)\n",
      "Requirement already satisfied: multidict<7.0,>=4.5 in /Library/Frameworks/Python.framework/Versions/3.12/lib/python3.12/site-packages (from aiohttp->datasets) (6.4.3)\n",
      "Requirement already satisfied: propcache>=0.2.0 in /Library/Frameworks/Python.framework/Versions/3.12/lib/python3.12/site-packages (from aiohttp->datasets) (0.3.1)\n",
      "Requirement already satisfied: yarl<2.0,>=1.17.0 in /Library/Frameworks/Python.framework/Versions/3.12/lib/python3.12/site-packages (from aiohttp->datasets) (1.20.0)\n",
      "Requirement already satisfied: typing-extensions>=3.7.4.3 in /Library/Frameworks/Python.framework/Versions/3.12/lib/python3.12/site-packages (from huggingface-hub<1.0,>=0.16.4->tokenizers) (4.12.0)\n",
      "Requirement already satisfied: charset-normalizer<4,>=2 in /Library/Frameworks/Python.framework/Versions/3.12/lib/python3.12/site-packages (from requests>=2.32.2->datasets) (3.4.1)\n",
      "Requirement already satisfied: idna<4,>=2.5 in /Library/Frameworks/Python.framework/Versions/3.12/lib/python3.12/site-packages (from requests>=2.32.2->datasets) (3.10)\n",
      "Requirement already satisfied: urllib3<3,>=1.21.1 in /Library/Frameworks/Python.framework/Versions/3.12/lib/python3.12/site-packages (from requests>=2.32.2->datasets) (2.4.0)\n",
      "Requirement already satisfied: certifi>=2017.4.17 in /Library/Frameworks/Python.framework/Versions/3.12/lib/python3.12/site-packages (from requests>=2.32.2->datasets) (2025.1.31)\n",
      "Requirement already satisfied: python-dateutil>=2.8.2 in /Users/lucamartucci/Library/Python/3.12/lib/python/site-packages (from pandas->datasets) (2.8.2)\n",
      "Requirement already satisfied: pytz>=2020.1 in /Library/Frameworks/Python.framework/Versions/3.12/lib/python3.12/site-packages (from pandas->datasets) (2023.3.post1)\n",
      "Requirement already satisfied: tzdata>=2022.1 in /Library/Frameworks/Python.framework/Versions/3.12/lib/python3.12/site-packages (from pandas->datasets) (2023.3)\n",
      "Requirement already satisfied: six>=1.5 in /Users/lucamartucci/Library/Python/3.12/lib/python/site-packages (from python-dateutil>=2.8.2->pandas->datasets) (1.16.0)\n",
      "\n",
      "\u001b[1m[\u001b[0m\u001b[34;49mnotice\u001b[0m\u001b[1;39;49m]\u001b[0m\u001b[39;49m A new release of pip is available: \u001b[0m\u001b[31;49m24.0\u001b[0m\u001b[39;49m -> \u001b[0m\u001b[32;49m25.0.1\u001b[0m\n",
      "\u001b[1m[\u001b[0m\u001b[34;49mnotice\u001b[0m\u001b[1;39;49m]\u001b[0m\u001b[39;49m To update, run: \u001b[0m\u001b[32;49mpython3 -m pip install --upgrade pip\u001b[0m\n",
      "Note: you may need to restart the kernel to use updated packages.\n"
     ]
    }
   ],
   "source": [
    "pip install tokenizers datasets"
   ]
  },
  {
   "cell_type": "code",
   "execution_count": 2,
   "id": "7c3e719d",
   "metadata": {},
   "outputs": [
    {
     "name": "stderr",
     "output_type": "stream",
     "text": [
      "/Library/Frameworks/Python.framework/Versions/3.12/lib/python3.12/site-packages/tqdm/auto.py:21: TqdmWarning: IProgress not found. Please update jupyter and ipywidgets. See https://ipywidgets.readthedocs.io/en/stable/user_install.html\n",
      "  from .autonotebook import tqdm as notebook_tqdm\n"
     ]
    }
   ],
   "source": [
    "from datasets import load_dataset\n",
    "\n",
    "original = load_dataset(\"colesimmons/SumTablets_English\")[\"train\"]\n",
    "augmented = load_dataset(\"colesimmons/SumTablets_English-augmented\")[\"train\"]"
   ]
  },
  {
   "cell_type": "code",
   "execution_count": 3,
   "id": "2427265c",
   "metadata": {},
   "outputs": [],
   "source": [
    "#Concatenate all transliteration lines into a single .txt file\n",
    "\n",
    "transliterations = [item[\"transliteration\"] for item in original] + \\\n",
    "                   [item[\"transliteration\"] for item in augmented]\n",
    "\n",
    "with open(\"sumerian_transliterations.txt\", \"w\", encoding=\"utf-8\") as f:\n",
    "    for line in transliterations:\n",
    "        f.write(line.strip() + \"\\n\")"
   ]
  },
  {
   "cell_type": "code",
   "execution_count": 4,
   "id": "050893c7",
   "metadata": {},
   "outputs": [],
   "source": [
    "from tokenizers import Tokenizer, models, trainers, pre_tokenizers, normalizers\n",
    "from tokenizers.normalizers import NFD, StripAccents, Lowercase, Sequence\n",
    "from tokenizers.pre_tokenizers import Whitespace\n",
    "from tokenizers.trainers import BpeTrainer"
   ]
  },
  {
   "cell_type": "code",
   "execution_count": null,
   "id": "35c1bee8",
   "metadata": {},
   "outputs": [
    {
     "name": "stdout",
     "output_type": "stream",
     "text": [
      "\n",
      "\n",
      "\n"
     ]
    }
   ],
   "source": [
    "# Initialize empty BPE tokenizer\n",
    "tokenizer = Tokenizer(models.BPE())\n",
    "\n",
    "# Normalize text\n",
    "tokenizer.normalizer = Sequence([NFD(), Lowercase(), StripAccents()])\n",
    "\n",
    "# Tokenize by whitespace \n",
    "tokenizer.pre_tokenizer = Whitespace()\n",
    "\n",
    "# Set training rules\n",
    "trainer = BpeTrainer(\n",
    "    vocab_size=10000,  \n",
    "    show_progress=True,\n",
    "    special_tokens=[\"<pad>\", \"<s>\", \"</s>\", \"<unk>\"]\n",
    ")\n",
    "\n",
    "# Train on your corpus\n",
    "tokenizer.train([\"sumerian_transliterations.txt\"], trainer=trainer)\n"
   ]
  },
  {
   "cell_type": "code",
   "execution_count": null,
   "id": "7aea9fc5",
   "metadata": {},
   "outputs": [],
   "source": [
    "#Wrap sequences with <s> and </s> for model compatibility\n",
    "\n",
    "from tokenizers.processors import TemplateProcessing\n",
    "\n",
    "tokenizer.post_processor = TemplateProcessing(\n",
    "    single=\"<s> $A </s>\",\n",
    "    pair=\"<s> $A </s> </s> $B </s>\",\n",
    "    special_tokens=[\n",
    "        (\"<s>\", tokenizer.token_to_id(\"<s>\")),\n",
    "        (\"</s>\", tokenizer.token_to_id(\"</s>\")),\n",
    "    ],\n",
    ")"
   ]
  },
  {
   "cell_type": "code",
   "execution_count": 7,
   "id": "3c56d920",
   "metadata": {},
   "outputs": [],
   "source": [
    "import os\n",
    "\n",
    "output_dir = \"sumerian_bpe_tokenizer\"\n",
    "os.makedirs(output_dir, exist_ok=True)  \n",
    "\n",
    "tokenizer.save(os.path.join(output_dir, \"tokenizer.json\"))"
   ]
  },
  {
   "cell_type": "code",
   "execution_count": null,
   "id": "89f7383b",
   "metadata": {},
   "outputs": [
    {
     "name": "stdout",
     "output_type": "stream",
     "text": [
      "['<s>', 'en', '-', 'lil', '2', 'kur', '2', '-', 'ta', 'e', '3', '-', 'a', '</s>']\n"
     ]
    }
   ],
   "source": [
    "#Example\n",
    "\n",
    "encoding = tokenizer.encode(\"en-lil2 kur2-ta e3-a\")\n",
    "print(encoding.tokens)\n",
    "# print(encoding.ids)\n",
    "# print(encoding.offsets)\n",
    "# print(encoding.attention_mask)\n",
    "# print(encoding.special_tokens_mask)\n",
    "# print(encoding.type_ids)\n",
    "# print(encoding.encoded_offsets)\n"
   ]
  },
  {
   "cell_type": "markdown",
   "id": "27d9c427",
   "metadata": {},
   "source": [
    "Mapping to Unicode glyphs"
   ]
  },
  {
   "cell_type": "code",
   "execution_count": 59,
   "id": "4c5e611c",
   "metadata": {},
   "outputs": [],
   "source": [
    "from tokenizers import Tokenizer\n",
    "tokenizer = Tokenizer.from_file(\"tokenizer.json\")"
   ]
  },
  {
   "cell_type": "code",
   "execution_count": 60,
   "id": "d612fa61",
   "metadata": {},
   "outputs": [],
   "source": [
    "sumtablets = load_dataset(\"colesimmons/SumTablets\")[\"train\"]"
   ]
  },
  {
   "cell_type": "code",
   "execution_count": 83,
   "id": "9bc480a4",
   "metadata": {},
   "outputs": [
    {
     "name": "stdout",
     "output_type": "stream",
     "text": [
      "Successfully aligned 82432 transliterations.\n",
      "\n"
     ]
    }
   ],
   "source": [
    "from collections import defaultdict, Counter\n",
    "\n",
    "def is_cuneiform(char):\n",
    "    return 0x12000 <= ord(char) <= 0x123FF\n",
    "\n",
    "# Collect token-glyph alignments\n",
    "token_to_glyphs = defaultdict(list)\n",
    "aligned_count = 0\n",
    "\n",
    "for entry in sumtablets:\n",
    "    translit = entry[\"transliteration\"]\n",
    "    glyphs_raw = entry.get(\"glyphs\", \"\")  # safer than [\"glyphs\"] in case of key error\n",
    "\n",
    "    # Tokenize and filter glyphs\n",
    "    tokens = tokenizer.encode(translit).tokens\n",
    "    glyphs = [g for g in glyphs_raw if is_cuneiform(g)]\n",
    "\n",
    "    # Skip empty alignments\n",
    "    if not tokens or not glyphs:\n",
    "        continue\n",
    "\n",
    "    # Align as much as possible (partial alignments)\n",
    "    for token, glyph in zip(tokens, glyphs):\n",
    "        token_to_glyphs[token].append(glyph)\n",
    "\n",
    "    aligned_count += 1\n",
    "\n",
    "# Build frequency-based glyph vocab\n",
    "token_glyph_vocab = {\n",
    "    token: Counter(glyphs).most_common(5)  # top 5 most frequent glyphs\n",
    "    for token, glyphs in token_to_glyphs.items()\n",
    "}\n",
    "\n",
    "print(f\"Successfully aligned {aligned_count} transliterations.\\n\")"
   ]
  },
  {
   "cell_type": "code",
   "execution_count": 88,
   "id": "5d37f81e",
   "metadata": {},
   "outputs": [
    {
     "name": "stdout",
     "output_type": "stream",
     "text": [
      "Token 'en' maps to:\n",
      "  𒀭  (x679)\n",
      "  𒀀  (x372)\n",
      "  𒆠  (x350)\n",
      "  𒈬  (x341)\n",
      "  𒁀  (x266)\n"
     ]
    }
   ],
   "source": [
    "sample_token = \"en\"\n",
    "print(f\"Token '{sample_token}' maps to:\")\n",
    "for glyph, freq in token_glyph_vocab.get(sample_token, []):\n",
    "    print(f\"  {glyph}  (x{freq})\")"
   ]
  }
 ],
 "metadata": {
  "kernelspec": {
   "display_name": "Python 3",
   "language": "python",
   "name": "python3"
  },
  "language_info": {
   "codemirror_mode": {
    "name": "ipython",
    "version": 3
   },
   "file_extension": ".py",
   "mimetype": "text/x-python",
   "name": "python",
   "nbconvert_exporter": "python",
   "pygments_lexer": "ipython3",
   "version": "3.12.0"
  }
 },
 "nbformat": 4,
 "nbformat_minor": 5
}
