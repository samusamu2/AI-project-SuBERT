{
 "cells": [
  {
   "cell_type": "markdown",
   "id": "4aa27aa0",
   "metadata": {},
   "source": [
    "# Transliterate"
   ]
  },
  {
   "cell_type": "code",
   "execution_count": 19,
   "id": "505df7dc",
   "metadata": {},
   "outputs": [],
   "source": [
    "import json\n",
    "import os\n",
    "import pandas as pd"
   ]
  },
  {
   "cell_type": "code",
   "execution_count": 13,
   "id": "c332aeb5",
   "metadata": {},
   "outputs": [],
   "source": [
    "# Load json files\n",
    "def load_json(file_path):\n",
    "    \"\"\"\n",
    "    Load a JSON file and return its content.\n",
    "    \n",
    "    :param file_path: Path to the JSON file.\n",
    "    :return: Parsed JSON content as a Python dictionary.\n",
    "    \"\"\"\n",
    "    if not os.path.exists(file_path):\n",
    "        raise FileNotFoundError(f\"The file {file_path} does not exist.\")\n",
    "    \n",
    "    with open(file_path, 'r', encoding='utf-8') as file:\n",
    "        return json.load(file)\n",
    "\n",
    "name_to_glyph = load_json('glyph_name_to_glyph.json')\n",
    "morph_to_name = load_json('morpheme_to_glyph_names.json')"
   ]
  },
  {
   "cell_type": "code",
   "execution_count": 14,
   "id": "b8d406ef",
   "metadata": {},
   "outputs": [],
   "source": [
    "# reverse the dictionary\n",
    "glyph_to_name = {v: k for k, v in name_to_glyph.items()}\n",
    "\n",
    "# it key can be a list, we need to handle it: more values for the same key must map to the same glyph\n",
    "name_to_morph = {}\n",
    "for k, v in morph_to_name.items():\n",
    "    if isinstance(v, list):\n",
    "        for name in v:\n",
    "            name_to_morph[name] = k  # Map each name to the same morph key\n",
    "    else:\n",
    "        name_to_morph[v] = k  # Single name case"
   ]
  }
 ],
 "metadata": {
  "kernelspec": {
   "display_name": "Python 3",
   "language": "python",
   "name": "python3"
  },
  "language_info": {
   "codemirror_mode": {
    "name": "ipython",
    "version": 3
   },
   "file_extension": ".py",
   "mimetype": "text/x-python",
   "name": "python",
   "nbconvert_exporter": "python",
   "pygments_lexer": "ipython3",
   "version": "3.12.10"
  }
 },
 "nbformat": 4,
 "nbformat_minor": 5
}
